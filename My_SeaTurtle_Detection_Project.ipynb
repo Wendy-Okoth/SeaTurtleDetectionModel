{
  "nbformat": 4,
  "nbformat_minor": 0,
  "metadata": {
    "colab": {
      "provenance": [],
      "gpuType": "T4",
      "mount_file_id": "1mcQdeasev3YlIIkUIPj8bD8xPcBzICGN",
      "authorship_tag": "ABX9TyOS+mKtcL/HQs5nd1RI3Cz5",
      "include_colab_link": true
    },
    "kernelspec": {
      "name": "python3",
      "display_name": "Python 3"
    },
    "language_info": {
      "name": "python"
    },
    "accelerator": "GPU"
  },
  "cells": [
    {
      "cell_type": "markdown",
      "metadata": {
        "id": "view-in-github",
        "colab_type": "text"
      },
      "source": [
        "<a href=\"https://colab.research.google.com/github/Wendy-Okoth/SeaTurtleDetectionModel/blob/main/My_SeaTurtle_Detection_Project.ipynb\" target=\"_parent\"><img src=\"https://colab.research.google.com/assets/colab-badge.svg\" alt=\"Open In Colab\"/></a>"
      ]
    },
    {
      "cell_type": "code",
      "execution_count": 7,
      "metadata": {
        "id": "EUrfqaGt_aUo",
        "colab": {
          "base_uri": "https://localhost:8080/"
        },
        "outputId": "4ca51cb1-212e-4a0e-a7cd-0ead88b6cf82"
      },
      "outputs": [
        {
          "output_type": "stream",
          "name": "stdout",
          "text": [
            "Collecting ultralytics\n",
            "  Downloading ultralytics-8.3.169-py3-none-any.whl.metadata (37 kB)\n",
            "Requirement already satisfied: numpy>=1.23.0 in /usr/local/lib/python3.11/dist-packages (from ultralytics) (2.0.2)\n",
            "Requirement already satisfied: matplotlib>=3.3.0 in /usr/local/lib/python3.11/dist-packages (from ultralytics) (3.10.0)\n",
            "Requirement already satisfied: opencv-python>=4.6.0 in /usr/local/lib/python3.11/dist-packages (from ultralytics) (4.11.0.86)\n",
            "Requirement already satisfied: pillow>=7.1.2 in /usr/local/lib/python3.11/dist-packages (from ultralytics) (11.2.1)\n",
            "Requirement already satisfied: pyyaml>=5.3.1 in /usr/local/lib/python3.11/dist-packages (from ultralytics) (6.0.2)\n",
            "Requirement already satisfied: requests>=2.23.0 in /usr/local/lib/python3.11/dist-packages (from ultralytics) (2.32.3)\n",
            "Requirement already satisfied: scipy>=1.4.1 in /usr/local/lib/python3.11/dist-packages (from ultralytics) (1.15.3)\n",
            "Requirement already satisfied: torch>=1.8.0 in /usr/local/lib/python3.11/dist-packages (from ultralytics) (2.6.0+cu124)\n",
            "Requirement already satisfied: torchvision>=0.9.0 in /usr/local/lib/python3.11/dist-packages (from ultralytics) (0.21.0+cu124)\n",
            "Requirement already satisfied: tqdm>=4.64.0 in /usr/local/lib/python3.11/dist-packages (from ultralytics) (4.67.1)\n",
            "Requirement already satisfied: psutil in /usr/local/lib/python3.11/dist-packages (from ultralytics) (5.9.5)\n",
            "Requirement already satisfied: py-cpuinfo in /usr/local/lib/python3.11/dist-packages (from ultralytics) (9.0.0)\n",
            "Requirement already satisfied: pandas>=1.1.4 in /usr/local/lib/python3.11/dist-packages (from ultralytics) (2.2.2)\n",
            "Collecting ultralytics-thop>=2.0.0 (from ultralytics)\n",
            "  Downloading ultralytics_thop-2.0.14-py3-none-any.whl.metadata (9.4 kB)\n",
            "Requirement already satisfied: contourpy>=1.0.1 in /usr/local/lib/python3.11/dist-packages (from matplotlib>=3.3.0->ultralytics) (1.3.2)\n",
            "Requirement already satisfied: cycler>=0.10 in /usr/local/lib/python3.11/dist-packages (from matplotlib>=3.3.0->ultralytics) (0.12.1)\n",
            "Requirement already satisfied: fonttools>=4.22.0 in /usr/local/lib/python3.11/dist-packages (from matplotlib>=3.3.0->ultralytics) (4.59.0)\n",
            "Requirement already satisfied: kiwisolver>=1.3.1 in /usr/local/lib/python3.11/dist-packages (from matplotlib>=3.3.0->ultralytics) (1.4.8)\n",
            "Requirement already satisfied: packaging>=20.0 in /usr/local/lib/python3.11/dist-packages (from matplotlib>=3.3.0->ultralytics) (25.0)\n",
            "Requirement already satisfied: pyparsing>=2.3.1 in /usr/local/lib/python3.11/dist-packages (from matplotlib>=3.3.0->ultralytics) (3.2.3)\n",
            "Requirement already satisfied: python-dateutil>=2.7 in /usr/local/lib/python3.11/dist-packages (from matplotlib>=3.3.0->ultralytics) (2.9.0.post0)\n",
            "Requirement already satisfied: pytz>=2020.1 in /usr/local/lib/python3.11/dist-packages (from pandas>=1.1.4->ultralytics) (2025.2)\n",
            "Requirement already satisfied: tzdata>=2022.7 in /usr/local/lib/python3.11/dist-packages (from pandas>=1.1.4->ultralytics) (2025.2)\n",
            "Requirement already satisfied: charset-normalizer<4,>=2 in /usr/local/lib/python3.11/dist-packages (from requests>=2.23.0->ultralytics) (3.4.2)\n",
            "Requirement already satisfied: idna<4,>=2.5 in /usr/local/lib/python3.11/dist-packages (from requests>=2.23.0->ultralytics) (3.10)\n",
            "Requirement already satisfied: urllib3<3,>=1.21.1 in /usr/local/lib/python3.11/dist-packages (from requests>=2.23.0->ultralytics) (2.4.0)\n",
            "Requirement already satisfied: certifi>=2017.4.17 in /usr/local/lib/python3.11/dist-packages (from requests>=2.23.0->ultralytics) (2025.7.14)\n",
            "Requirement already satisfied: filelock in /usr/local/lib/python3.11/dist-packages (from torch>=1.8.0->ultralytics) (3.18.0)\n",
            "Requirement already satisfied: typing-extensions>=4.10.0 in /usr/local/lib/python3.11/dist-packages (from torch>=1.8.0->ultralytics) (4.14.1)\n",
            "Requirement already satisfied: networkx in /usr/local/lib/python3.11/dist-packages (from torch>=1.8.0->ultralytics) (3.5)\n",
            "Requirement already satisfied: jinja2 in /usr/local/lib/python3.11/dist-packages (from torch>=1.8.0->ultralytics) (3.1.6)\n",
            "Requirement already satisfied: fsspec in /usr/local/lib/python3.11/dist-packages (from torch>=1.8.0->ultralytics) (2025.3.2)\n",
            "Collecting nvidia-cuda-nvrtc-cu12==12.4.127 (from torch>=1.8.0->ultralytics)\n",
            "  Downloading nvidia_cuda_nvrtc_cu12-12.4.127-py3-none-manylinux2014_x86_64.whl.metadata (1.5 kB)\n",
            "Collecting nvidia-cuda-runtime-cu12==12.4.127 (from torch>=1.8.0->ultralytics)\n",
            "  Downloading nvidia_cuda_runtime_cu12-12.4.127-py3-none-manylinux2014_x86_64.whl.metadata (1.5 kB)\n",
            "Collecting nvidia-cuda-cupti-cu12==12.4.127 (from torch>=1.8.0->ultralytics)\n",
            "  Downloading nvidia_cuda_cupti_cu12-12.4.127-py3-none-manylinux2014_x86_64.whl.metadata (1.6 kB)\n",
            "Collecting nvidia-cudnn-cu12==9.1.0.70 (from torch>=1.8.0->ultralytics)\n",
            "  Downloading nvidia_cudnn_cu12-9.1.0.70-py3-none-manylinux2014_x86_64.whl.metadata (1.6 kB)\n",
            "Collecting nvidia-cublas-cu12==12.4.5.8 (from torch>=1.8.0->ultralytics)\n",
            "  Downloading nvidia_cublas_cu12-12.4.5.8-py3-none-manylinux2014_x86_64.whl.metadata (1.5 kB)\n",
            "Collecting nvidia-cufft-cu12==11.2.1.3 (from torch>=1.8.0->ultralytics)\n",
            "  Downloading nvidia_cufft_cu12-11.2.1.3-py3-none-manylinux2014_x86_64.whl.metadata (1.5 kB)\n",
            "Collecting nvidia-curand-cu12==10.3.5.147 (from torch>=1.8.0->ultralytics)\n",
            "  Downloading nvidia_curand_cu12-10.3.5.147-py3-none-manylinux2014_x86_64.whl.metadata (1.5 kB)\n",
            "Collecting nvidia-cusolver-cu12==11.6.1.9 (from torch>=1.8.0->ultralytics)\n",
            "  Downloading nvidia_cusolver_cu12-11.6.1.9-py3-none-manylinux2014_x86_64.whl.metadata (1.6 kB)\n",
            "Collecting nvidia-cusparse-cu12==12.3.1.170 (from torch>=1.8.0->ultralytics)\n",
            "  Downloading nvidia_cusparse_cu12-12.3.1.170-py3-none-manylinux2014_x86_64.whl.metadata (1.6 kB)\n",
            "Requirement already satisfied: nvidia-cusparselt-cu12==0.6.2 in /usr/local/lib/python3.11/dist-packages (from torch>=1.8.0->ultralytics) (0.6.2)\n",
            "Requirement already satisfied: nvidia-nccl-cu12==2.21.5 in /usr/local/lib/python3.11/dist-packages (from torch>=1.8.0->ultralytics) (2.21.5)\n",
            "Requirement already satisfied: nvidia-nvtx-cu12==12.4.127 in /usr/local/lib/python3.11/dist-packages (from torch>=1.8.0->ultralytics) (12.4.127)\n",
            "Collecting nvidia-nvjitlink-cu12==12.4.127 (from torch>=1.8.0->ultralytics)\n",
            "  Downloading nvidia_nvjitlink_cu12-12.4.127-py3-none-manylinux2014_x86_64.whl.metadata (1.5 kB)\n",
            "Requirement already satisfied: triton==3.2.0 in /usr/local/lib/python3.11/dist-packages (from torch>=1.8.0->ultralytics) (3.2.0)\n",
            "Requirement already satisfied: sympy==1.13.1 in /usr/local/lib/python3.11/dist-packages (from torch>=1.8.0->ultralytics) (1.13.1)\n",
            "Requirement already satisfied: mpmath<1.4,>=1.1.0 in /usr/local/lib/python3.11/dist-packages (from sympy==1.13.1->torch>=1.8.0->ultralytics) (1.3.0)\n",
            "Requirement already satisfied: six>=1.5 in /usr/local/lib/python3.11/dist-packages (from python-dateutil>=2.7->matplotlib>=3.3.0->ultralytics) (1.17.0)\n",
            "Requirement already satisfied: MarkupSafe>=2.0 in /usr/local/lib/python3.11/dist-packages (from jinja2->torch>=1.8.0->ultralytics) (3.0.2)\n",
            "Downloading ultralytics-8.3.169-py3-none-any.whl (1.0 MB)\n",
            "\u001b[2K   \u001b[90m━━━━━━━━━━━━━━━━━━━━━━━━━━━━━━━━━━━━━━━━\u001b[0m \u001b[32m1.0/1.0 MB\u001b[0m \u001b[31m39.0 MB/s\u001b[0m eta \u001b[36m0:00:00\u001b[0m\n",
            "\u001b[?25hDownloading nvidia_cublas_cu12-12.4.5.8-py3-none-manylinux2014_x86_64.whl (363.4 MB)\n",
            "\u001b[2K   \u001b[90m━━━━━━━━━━━━━━━━━━━━━━━━━━━━━━━━━━━━━━━━\u001b[0m \u001b[32m363.4/363.4 MB\u001b[0m \u001b[31m4.6 MB/s\u001b[0m eta \u001b[36m0:00:00\u001b[0m\n",
            "\u001b[?25hDownloading nvidia_cuda_cupti_cu12-12.4.127-py3-none-manylinux2014_x86_64.whl (13.8 MB)\n",
            "\u001b[2K   \u001b[90m━━━━━━━━━━━━━━━━━━━━━━━━━━━━━━━━━━━━━━━━\u001b[0m \u001b[32m13.8/13.8 MB\u001b[0m \u001b[31m121.9 MB/s\u001b[0m eta \u001b[36m0:00:00\u001b[0m\n",
            "\u001b[?25hDownloading nvidia_cuda_nvrtc_cu12-12.4.127-py3-none-manylinux2014_x86_64.whl (24.6 MB)\n",
            "\u001b[2K   \u001b[90m━━━━━━━━━━━━━━━━━━━━━━━━━━━━━━━━━━━━━━━━\u001b[0m \u001b[32m24.6/24.6 MB\u001b[0m \u001b[31m90.9 MB/s\u001b[0m eta \u001b[36m0:00:00\u001b[0m\n",
            "\u001b[?25hDownloading nvidia_cuda_runtime_cu12-12.4.127-py3-none-manylinux2014_x86_64.whl (883 kB)\n",
            "\u001b[2K   \u001b[90m━━━━━━━━━━━━━━━━━━━━━━━━━━━━━━━━━━━━━━━━\u001b[0m \u001b[32m883.7/883.7 kB\u001b[0m \u001b[31m58.9 MB/s\u001b[0m eta \u001b[36m0:00:00\u001b[0m\n",
            "\u001b[?25hDownloading nvidia_cudnn_cu12-9.1.0.70-py3-none-manylinux2014_x86_64.whl (664.8 MB)\n",
            "\u001b[2K   \u001b[90m━━━━━━━━━━━━━━━━━━━━━━━━━━━━━━━━━━━━━━━━\u001b[0m \u001b[32m664.8/664.8 MB\u001b[0m \u001b[31m2.7 MB/s\u001b[0m eta \u001b[36m0:00:00\u001b[0m\n",
            "\u001b[?25hDownloading nvidia_cufft_cu12-11.2.1.3-py3-none-manylinux2014_x86_64.whl (211.5 MB)\n",
            "\u001b[2K   \u001b[90m━━━━━━━━━━━━━━━━━━━━━━━━━━━━━━━━━━━━━━━━\u001b[0m \u001b[32m211.5/211.5 MB\u001b[0m \u001b[31m5.5 MB/s\u001b[0m eta \u001b[36m0:00:00\u001b[0m\n",
            "\u001b[?25hDownloading nvidia_curand_cu12-10.3.5.147-py3-none-manylinux2014_x86_64.whl (56.3 MB)\n",
            "\u001b[2K   \u001b[90m━━━━━━━━━━━━━━━━━━━━━━━━━━━━━━━━━━━━━━━━\u001b[0m \u001b[32m56.3/56.3 MB\u001b[0m \u001b[31m12.7 MB/s\u001b[0m eta \u001b[36m0:00:00\u001b[0m\n",
            "\u001b[?25hDownloading nvidia_cusolver_cu12-11.6.1.9-py3-none-manylinux2014_x86_64.whl (127.9 MB)\n",
            "\u001b[2K   \u001b[90m━━━━━━━━━━━━━━━━━━━━━━━━━━━━━━━━━━━━━━━━\u001b[0m \u001b[32m127.9/127.9 MB\u001b[0m \u001b[31m7.4 MB/s\u001b[0m eta \u001b[36m0:00:00\u001b[0m\n",
            "\u001b[?25hDownloading nvidia_cusparse_cu12-12.3.1.170-py3-none-manylinux2014_x86_64.whl (207.5 MB)\n",
            "\u001b[2K   \u001b[90m━━━━━━━━━━━━━━━━━━━━━━━━━━━━━━━━━━━━━━━━\u001b[0m \u001b[32m207.5/207.5 MB\u001b[0m \u001b[31m5.5 MB/s\u001b[0m eta \u001b[36m0:00:00\u001b[0m\n",
            "\u001b[?25hDownloading nvidia_nvjitlink_cu12-12.4.127-py3-none-manylinux2014_x86_64.whl (21.1 MB)\n",
            "\u001b[2K   \u001b[90m━━━━━━━━━━━━━━━━━━━━━━━━━━━━━━━━━━━━━━━━\u001b[0m \u001b[32m21.1/21.1 MB\u001b[0m \u001b[31m84.0 MB/s\u001b[0m eta \u001b[36m0:00:00\u001b[0m\n",
            "\u001b[?25hDownloading ultralytics_thop-2.0.14-py3-none-any.whl (26 kB)\n",
            "Installing collected packages: nvidia-nvjitlink-cu12, nvidia-curand-cu12, nvidia-cufft-cu12, nvidia-cuda-runtime-cu12, nvidia-cuda-nvrtc-cu12, nvidia-cuda-cupti-cu12, nvidia-cublas-cu12, nvidia-cusparse-cu12, nvidia-cudnn-cu12, nvidia-cusolver-cu12, ultralytics-thop, ultralytics\n",
            "  Attempting uninstall: nvidia-nvjitlink-cu12\n",
            "    Found existing installation: nvidia-nvjitlink-cu12 12.5.82\n",
            "    Uninstalling nvidia-nvjitlink-cu12-12.5.82:\n",
            "      Successfully uninstalled nvidia-nvjitlink-cu12-12.5.82\n",
            "  Attempting uninstall: nvidia-curand-cu12\n",
            "    Found existing installation: nvidia-curand-cu12 10.3.6.82\n",
            "    Uninstalling nvidia-curand-cu12-10.3.6.82:\n",
            "      Successfully uninstalled nvidia-curand-cu12-10.3.6.82\n",
            "  Attempting uninstall: nvidia-cufft-cu12\n",
            "    Found existing installation: nvidia-cufft-cu12 11.2.3.61\n",
            "    Uninstalling nvidia-cufft-cu12-11.2.3.61:\n",
            "      Successfully uninstalled nvidia-cufft-cu12-11.2.3.61\n",
            "  Attempting uninstall: nvidia-cuda-runtime-cu12\n",
            "    Found existing installation: nvidia-cuda-runtime-cu12 12.5.82\n",
            "    Uninstalling nvidia-cuda-runtime-cu12-12.5.82:\n",
            "      Successfully uninstalled nvidia-cuda-runtime-cu12-12.5.82\n",
            "  Attempting uninstall: nvidia-cuda-nvrtc-cu12\n",
            "    Found existing installation: nvidia-cuda-nvrtc-cu12 12.5.82\n",
            "    Uninstalling nvidia-cuda-nvrtc-cu12-12.5.82:\n",
            "      Successfully uninstalled nvidia-cuda-nvrtc-cu12-12.5.82\n",
            "  Attempting uninstall: nvidia-cuda-cupti-cu12\n",
            "    Found existing installation: nvidia-cuda-cupti-cu12 12.5.82\n",
            "    Uninstalling nvidia-cuda-cupti-cu12-12.5.82:\n",
            "      Successfully uninstalled nvidia-cuda-cupti-cu12-12.5.82\n",
            "  Attempting uninstall: nvidia-cublas-cu12\n",
            "    Found existing installation: nvidia-cublas-cu12 12.5.3.2\n",
            "    Uninstalling nvidia-cublas-cu12-12.5.3.2:\n",
            "      Successfully uninstalled nvidia-cublas-cu12-12.5.3.2\n",
            "  Attempting uninstall: nvidia-cusparse-cu12\n",
            "    Found existing installation: nvidia-cusparse-cu12 12.5.1.3\n",
            "    Uninstalling nvidia-cusparse-cu12-12.5.1.3:\n",
            "      Successfully uninstalled nvidia-cusparse-cu12-12.5.1.3\n",
            "  Attempting uninstall: nvidia-cudnn-cu12\n",
            "    Found existing installation: nvidia-cudnn-cu12 9.3.0.75\n",
            "    Uninstalling nvidia-cudnn-cu12-9.3.0.75:\n",
            "      Successfully uninstalled nvidia-cudnn-cu12-9.3.0.75\n",
            "  Attempting uninstall: nvidia-cusolver-cu12\n",
            "    Found existing installation: nvidia-cusolver-cu12 11.6.3.83\n",
            "    Uninstalling nvidia-cusolver-cu12-11.6.3.83:\n",
            "      Successfully uninstalled nvidia-cusolver-cu12-11.6.3.83\n",
            "Successfully installed nvidia-cublas-cu12-12.4.5.8 nvidia-cuda-cupti-cu12-12.4.127 nvidia-cuda-nvrtc-cu12-12.4.127 nvidia-cuda-runtime-cu12-12.4.127 nvidia-cudnn-cu12-9.1.0.70 nvidia-cufft-cu12-11.2.1.3 nvidia-curand-cu12-10.3.5.147 nvidia-cusolver-cu12-11.6.1.9 nvidia-cusparse-cu12-12.3.1.170 nvidia-nvjitlink-cu12-12.4.127 ultralytics-8.3.169 ultralytics-thop-2.0.14\n",
            "Requirement already satisfied: opencv-python in /usr/local/lib/python3.11/dist-packages (4.11.0.86)\n",
            "Collecting opencv-python\n",
            "  Downloading opencv_python-4.12.0.88-cp37-abi3-manylinux2014_x86_64.manylinux_2_17_x86_64.whl.metadata (19 kB)\n",
            "Requirement already satisfied: numpy<2.3.0,>=2 in /usr/local/lib/python3.11/dist-packages (from opencv-python) (2.0.2)\n",
            "Downloading opencv_python-4.12.0.88-cp37-abi3-manylinux2014_x86_64.manylinux_2_17_x86_64.whl (67.0 MB)\n",
            "\u001b[2K   \u001b[90m━━━━━━━━━━━━━━━━━━━━━━━━━━━━━━━━━━━━━━━━\u001b[0m \u001b[32m67.0/67.0 MB\u001b[0m \u001b[31m11.8 MB/s\u001b[0m eta \u001b[36m0:00:00\u001b[0m\n",
            "\u001b[?25hInstalling collected packages: opencv-python\n",
            "  Attempting uninstall: opencv-python\n",
            "    Found existing installation: opencv-python 4.11.0.86\n",
            "    Uninstalling opencv-python-4.11.0.86:\n",
            "      Successfully uninstalled opencv-python-4.11.0.86\n",
            "Successfully installed opencv-python-4.12.0.88\n",
            "Requirement already satisfied: matplotlib in /usr/local/lib/python3.11/dist-packages (3.10.0)\n",
            "Requirement already satisfied: contourpy>=1.0.1 in /usr/local/lib/python3.11/dist-packages (from matplotlib) (1.3.2)\n",
            "Requirement already satisfied: cycler>=0.10 in /usr/local/lib/python3.11/dist-packages (from matplotlib) (0.12.1)\n",
            "Requirement already satisfied: fonttools>=4.22.0 in /usr/local/lib/python3.11/dist-packages (from matplotlib) (4.59.0)\n",
            "Requirement already satisfied: kiwisolver>=1.3.1 in /usr/local/lib/python3.11/dist-packages (from matplotlib) (1.4.8)\n",
            "Requirement already satisfied: numpy>=1.23 in /usr/local/lib/python3.11/dist-packages (from matplotlib) (2.0.2)\n",
            "Requirement already satisfied: packaging>=20.0 in /usr/local/lib/python3.11/dist-packages (from matplotlib) (25.0)\n",
            "Requirement already satisfied: pillow>=8 in /usr/local/lib/python3.11/dist-packages (from matplotlib) (11.2.1)\n",
            "Requirement already satisfied: pyparsing>=2.3.1 in /usr/local/lib/python3.11/dist-packages (from matplotlib) (3.2.3)\n",
            "Requirement already satisfied: python-dateutil>=2.7 in /usr/local/lib/python3.11/dist-packages (from matplotlib) (2.9.0.post0)\n",
            "Requirement already satisfied: six>=1.5 in /usr/local/lib/python3.11/dist-packages (from python-dateutil>=2.7->matplotlib) (1.17.0)\n",
            "Requirement already satisfied: pandas in /usr/local/lib/python3.11/dist-packages (2.2.2)\n",
            "Requirement already satisfied: numpy>=1.23.2 in /usr/local/lib/python3.11/dist-packages (from pandas) (2.0.2)\n",
            "Requirement already satisfied: python-dateutil>=2.8.2 in /usr/local/lib/python3.11/dist-packages (from pandas) (2.9.0.post0)\n",
            "Requirement already satisfied: pytz>=2020.1 in /usr/local/lib/python3.11/dist-packages (from pandas) (2025.2)\n",
            "Requirement already satisfied: tzdata>=2022.7 in /usr/local/lib/python3.11/dist-packages (from pandas) (2025.2)\n",
            "Requirement already satisfied: six>=1.5 in /usr/local/lib/python3.11/dist-packages (from python-dateutil>=2.8.2->pandas) (1.17.0)\n"
          ]
        }
      ],
      "source": [
        "!pip install ultralytics\n",
        "!pip install -U opencv-python # Ensure you have the latest OpenCV for visualization\n",
        "!pip install matplotlib\n",
        "!pip install pandas # For handling the submission file"
      ]
    },
    {
      "cell_type": "code",
      "source": [
        "from google.colab import drive\n",
        "drive.mount('/content/drive')"
      ],
      "metadata": {
        "colab": {
          "base_uri": "https://localhost:8080/"
        },
        "id": "pNCF3U68RfTf",
        "outputId": "eda97793-3a4a-42ba-a25b-fc60c4fbc530"
      },
      "execution_count": 8,
      "outputs": [
        {
          "output_type": "stream",
          "name": "stdout",
          "text": [
            "Drive already mounted at /content/drive; to attempt to forcibly remount, call drive.mount(\"/content/drive\", force_remount=True).\n"
          ]
        }
      ]
    },
    {
      "cell_type": "code",
      "source": [
        "import os\n",
        "import pandas as pd\n",
        "from sklearn.model_selection import train_test_split\n",
        "from tqdm import tqdm # For progress bar\n",
        "\n",
        "# Define base directory where your processed dataset will live in Colab's local file system\n",
        "BASE_DATA_DIR = '/content/turtle_face_detection_dataset'\n",
        "\n",
        "# --- IMPORTANT: Adjust GOOGLE_DRIVE_DATA_FOLDER to your exact folder name! ---\n",
        "# If your folder in Google Drive is named 'SeaTurtleDetectionData', use that.\n",
        "# If it's something else, e.g., 'YOLO_Project', change it here.\n",
        "GOOGLE_DRIVE_DATA_FOLDER = '/content/drive/MyDrive/SeaTurtleDetectionData' # <--- VERIFY THIS FOLDER NAME!\n",
        "\n",
        "# Define the paths to your original downloaded files, now located in Google Drive\n",
        "IMAGES_ZIP_PATH = os.path.join(GOOGLE_DRIVE_DATA_FOLDER, 'IMAGES_512.zip')\n",
        "TRAIN_CSV_PATH = os.path.join(GOOGLE_DRIVE_DATA_FOLDER, 'Train.csv')\n",
        "SAMPLE_SUBMISSION_PATH = os.path.join(GOOGLE_DRIVE_DATA_FOLDER, 'SampleSubmission.csv') # Good to define for later\n",
        "\n",
        "# Define the YOLOv8 dataset structure paths (these remain on the Colab VM's local disk)\n",
        "IMAGES_DIR_RAW = os.path.join(BASE_DATA_DIR, 'images_raw') # Temporary for unzipping\n",
        "TRAIN_IMG_DIR = os.path.join(BASE_DATA_DIR, 'images', 'train')\n",
        "VAL_IMG_DIR = os.path.join(BASE_DATA_DIR, 'images', 'val')\n",
        "TRAIN_LABEL_DIR = os.path.join(BASE_DATA_DIR, 'labels', 'train')\n",
        "VAL_LABEL_DIR = os.path.join(BASE_DATA_DIR, 'labels', 'val')\n",
        "TEST_IMG_DIR = os.path.join(BASE_DATA_DIR, 'images', 'test')\n",
        "\n",
        "# Create directories on the Colab VM's local disk\n",
        "os.makedirs(IMAGES_DIR_RAW, exist_ok=True)\n",
        "os.makedirs(TRAIN_IMG_DIR, exist_ok=True)\n",
        "os.makedirs(VAL_IMG_DIR, exist_ok=True)\n",
        "os.makedirs(TRAIN_LABEL_DIR, exist_ok=True)\n",
        "os.makedirs(VAL_LABEL_DIR, exist_ok=True)\n",
        "os.makedirs(TEST_IMG_DIR, exist_ok=True)\n",
        "\n",
        "print(\"Directories created successfully:\")\n",
        "print(f\"- {IMAGES_DIR_RAW}\")\n",
        "print(f\"- {TRAIN_IMG_DIR}\")\n",
        "print(f\"- {VAL_IMG_DIR}\")\n",
        "print(f\"- {TRAIN_LABEL_DIR}\")\n",
        "print(f\"- {VAL_LABEL_DIR}\")\n",
        "print(f\"- {TEST_IMG_DIR}\")"
      ],
      "metadata": {
        "colab": {
          "base_uri": "https://localhost:8080/"
        },
        "id": "8cHVqAZ_UFcL",
        "outputId": "0952d5c9-9bd1-406b-9dc4-72595146a678"
      },
      "execution_count": 9,
      "outputs": [
        {
          "output_type": "stream",
          "name": "stdout",
          "text": [
            "Directories created successfully:\n",
            "- /content/turtle_face_detection_dataset/images_raw\n",
            "- /content/turtle_face_detection_dataset/images/train\n",
            "- /content/turtle_face_detection_dataset/images/val\n",
            "- /content/turtle_face_detection_dataset/labels/train\n",
            "- /content/turtle_face_detection_dataset/labels/val\n",
            "- /content/turtle_face_detection_dataset/images/test\n"
          ]
        }
      ]
    },
    {
      "cell_type": "code",
      "source": [
        "import zipfile\n",
        "import os # Ensure os is imported, though it likely is from previous cells\n",
        "\n",
        "# These paths should be correctly defined from your previous cell:\n",
        "# IMAGES_ZIP_PATH = os.path.join(GOOGLE_DRIVE_DATA_FOLDER, 'IMAGES_512.zip')\n",
        "# IMAGES_DIR_RAW = os.path.join(BASE_DATA_DIR, 'images_raw')\n",
        "\n",
        "print(f\"Unzipping {IMAGES_ZIP_PATH} to {IMAGES_DIR_RAW}...\")\n",
        "with zipfile.ZipFile(IMAGES_ZIP_PATH, 'r') as zip_ref:\n",
        "    zip_ref.extractall(IMAGES_DIR_RAW)\n",
        "print(\"Unzipping complete.\")\n",
        "\n",
        "# Now, let's re-verify the contents of IMAGES_DIR_RAW to confirm the structure\n",
        "# This is crucial because if it created another subfolder (like 'IMAGES_512'),\n",
        "# we need to adjust the path for the next step.\n",
        "print(\"\\nVerifying unzipped files (showing first 5 from IMAGES_DIR_RAW):\")\n",
        "!ls {IMAGES_DIR_RAW} | head -n 5\n",
        "\n",
        "# --- CRITICAL CHECK ---\n",
        "# If the above `!ls` command outputs just 'IMAGES_512' (meaning a subfolder),\n",
        "# then we'll need this line for the next step's ACTUAL_RAW_IMAGES_PATH:\n",
        "# ACTUAL_RAW_IMAGES_PATH = os.path.join(IMAGES_DIR_RAW, 'IMAGES_512')\n",
        "# If it outputs image filenames like '05EDF063.JPG', then ACTUAL_RAW_IMAGES_PATH = IMAGES_DIR_RAW"
      ],
      "metadata": {
        "colab": {
          "base_uri": "https://localhost:8080/"
        },
        "id": "R696QnxPWDBD",
        "outputId": "b25375c6-87fb-4d89-f63e-98bf064c562e"
      },
      "execution_count": 10,
      "outputs": [
        {
          "output_type": "stream",
          "name": "stdout",
          "text": [
            "Unzipping /content/drive/MyDrive/SeaTurtleDetectionData/IMAGES_512.zip to /content/turtle_face_detection_dataset/images_raw...\n",
            "Unzipping complete.\n",
            "\n",
            "Verifying unzipped files (showing first 5 from IMAGES_DIR_RAW):\n",
            "IMAGES_512\n"
          ]
        }
      ]
    },
    {
      "cell_type": "code",
      "source": [
        "import pandas as pd\n",
        "from sklearn.model_selection import train_test_split\n",
        "from tqdm import tqdm # For progress bar\n",
        "import os\n",
        "import shutil # For copying files\n",
        "\n",
        "# These paths are defined in your first setup cell and are correctly pointing to Drive\n",
        "# TRAIN_CSV_PATH = os.path.join(GOOGLE_DRIVE_DATA_FOLDER, 'Train.csv')\n",
        "# BASE_DATA_DIR = '/content/turtle_face_detection_dataset'\n",
        "\n",
        "# Define the YOLOv8 dataset structure paths (these are on the Colab VM's local disk)\n",
        "TRAIN_IMG_DIR = os.path.join(BASE_DATA_DIR, 'images', 'train')\n",
        "VAL_IMG_DIR = os.path.join(BASE_DATA_DIR, 'images', 'val')\n",
        "TRAIN_LABEL_DIR = os.path.join(BASE_DATA_DIR, 'labels', 'train')\n",
        "VAL_LABEL_DIR = os.path.join(BASE_DATA_DIR, 'labels', 'val')\n",
        "TEST_IMG_DIR = os.path.join(BASE_DATA_DIR, 'images', 'test')\n",
        "\n",
        "# --- CRITICAL: Path to where the actual image files are after unzipping ---\n",
        "# This accounts for the 'IMAGES_512' subfolder created by the unzip process.\n",
        "ACTUAL_RAW_IMAGES_PATH = os.path.join(BASE_DATA_DIR, 'images_raw', 'IMAGES_512')\n",
        "# --------------------------------------------------------------------------\n",
        "\n",
        "# Load the training annotations\n",
        "df_train = pd.read_csv(TRAIN_CSV_PATH)\n",
        "print(f\"Original training annotations loaded. Shape: {df_train.shape}\")\n",
        "print(df_train.head())\n",
        "\n",
        "# Check if the coordinates are already normalized (between 0 and 1)\n",
        "if df_train[['x', 'y', 'w', 'h']].max().max() > 1.05 or df_train[['x', 'y', 'w', 'h']].min().min() < -0.05:\n",
        "    print(\"\\nWARNING: Bounding box coordinates in Train.csv do NOT appear to be normalized (0-1).\")\n",
        "    print(\"If they are pixel coordinates, you will need to normalize them manually.\")\n",
        "    print(\"Assuming they are already normalized for this tutorial based on competition description.\")\n",
        "else:\n",
        "    print(\"\\nBounding box coordinates in Train.csv appear to be normalized (0-1). Proceeding.\")\n",
        "\n",
        "# Group annotations by Image_ID\n",
        "grouped_annotations = df_train.groupby('Image_ID')\n",
        "\n",
        "# Create a list of all unique image IDs\n",
        "all_image_ids = df_train['Image_ID'].unique().tolist()\n",
        "print(f\"\\nTotal unique training images: {len(all_image_ids)}\")\n",
        "\n",
        "# Split image IDs into training and validation sets\n",
        "train_image_ids, val_image_ids = train_test_split(\n",
        "    all_image_ids, test_size=0.2, random_state=42\n",
        ") # random_state for reproducibility\n",
        "\n",
        "print(f\"Training images: {len(train_image_ids)}\")\n",
        "print(f\"Validation images: {len(val_image_ids)}\")\n",
        "\n",
        "# --- START OF THE LOOP TO GENERATE LABELS AND COPY IMAGES ---\n",
        "\n",
        "# Assuming Class ID for 'sea turtle face' is 0\n",
        "CLASS_ID = 0\n",
        "CLASS_NAME = 'sea_turtle_face' # This will be used in data.yaml\n",
        "\n",
        "print(\"\\nGenerating YOLOv8 labels and copying images...\")\n",
        "\n",
        "for image_id in tqdm(all_image_ids, desc=\"Processing Images\"):\n",
        "    # Determine if it's a train or validation image\n",
        "    is_train = image_id in train_image_ids\n",
        "    target_img_dir = TRAIN_IMG_DIR if is_train else VAL_IMG_DIR\n",
        "    target_label_dir = TRAIN_LABEL_DIR if is_train else VAL_LABEL_DIR\n",
        "\n",
        "    # Construct source image path - using .JPG extension and the nested folder\n",
        "    source_image_path = os.path.join(ACTUAL_RAW_IMAGES_PATH, f\"{image_id}.JPG\") # <--- Uses .JPG\n",
        "\n",
        "    # Construct target image path and label file path\n",
        "    target_image_path = os.path.join(target_img_dir, f\"{image_id}.JPG\") # <--- Uses .JPG\n",
        "    label_file_path = os.path.join(target_label_dir, f\"{image_id}.txt\")\n",
        "\n",
        "    # Copy image\n",
        "    try:\n",
        "        shutil.copy(source_image_path, target_image_path)\n",
        "    except FileNotFoundError:\n",
        "        print(f\"Warning: Image {source_image_path} not found. Skipping.\")\n",
        "        continue # Skip to the next image if file not found\n",
        "\n",
        "    # Get annotations for the current image\n",
        "    image_annotations = grouped_annotations.get_group(image_id)\n",
        "\n",
        "    with open(label_file_path, 'w') as f:\n",
        "        for index, row in image_annotations.iterrows():\n",
        "            # YOLO format: <class_id> <x_center> <y_center> <width> <height> (all normalized)\n",
        "            # The competition CSV already provides normalized x, y, w, h\n",
        "            line = f\"{CLASS_ID} {row['x']} {row['y']} {row['w']} {row['h']}\\n\"\n",
        "            f.write(line)\n",
        "\n",
        "print(\"YOLOv8 dataset preparation complete.\")\n",
        "\n",
        "# Clean up raw images (optional, to save space on Colab VM, not Drive)\n",
        "print(f\"Removing raw images from {IMAGES_DIR_RAW}...\")\n",
        "shutil.rmtree(IMAGES_DIR_RAW)\n",
        "print(\"Raw images removed.\")"
      ],
      "metadata": {
        "colab": {
          "base_uri": "https://localhost:8080/"
        },
        "id": "qKqzHYRdYMWd",
        "outputId": "b41cf268-01da-4be4-8984-36b35fabd3d2"
      },
      "execution_count": 11,
      "outputs": [
        {
          "output_type": "stream",
          "name": "stdout",
          "text": [
            "Original training annotations loaded. Shape: (1326, 5)\n",
            "   Image_ID         x         y         w         h\n",
            "0  04FB1B33  0.481988  0.506076  0.174696  0.405671\n",
            "1  B04E481E  0.617405  0.313368  0.177734  0.293113\n",
            "2  32655645  0.490885  0.465856  0.165582  0.357350\n",
            "3  44D4DA7C  0.472873  0.506076  0.237847  0.409722\n",
            "4  4F36EF72  0.433811  0.574363  0.180773  0.397569\n",
            "\n",
            "Bounding box coordinates in Train.csv appear to be normalized (0-1). Proceeding.\n",
            "\n",
            "Total unique training images: 1326\n",
            "Training images: 1060\n",
            "Validation images: 266\n",
            "\n",
            "Generating YOLOv8 labels and copying images...\n"
          ]
        },
        {
          "output_type": "stream",
          "name": "stderr",
          "text": [
            "Processing Images: 100%|██████████| 1326/1326 [00:00<00:00, 1552.44it/s]"
          ]
        },
        {
          "output_type": "stream",
          "name": "stdout",
          "text": [
            "YOLOv8 dataset preparation complete.\n",
            "Removing raw images from /content/turtle_face_detection_dataset/images_raw...\n",
            "Raw images removed.\n"
          ]
        },
        {
          "output_type": "stream",
          "name": "stderr",
          "text": [
            "\n"
          ]
        }
      ]
    },
    {
      "cell_type": "code",
      "source": [
        "import os # Ensure os is imported if not already\n",
        "\n",
        "# BASE_DATA_DIR is defined from previous cells: /content/turtle_face_detection_dataset\n",
        "\n",
        "DATA_YAML_PATH = os.path.join(BASE_DATA_DIR, 'data.yaml')\n",
        "\n",
        "data_yaml_content = f\"\"\"\n",
        "path: {BASE_DATA_DIR}\n",
        "train: images/train\n",
        "val: images/val\n",
        "test: images/test\n",
        "nc: 1\n",
        "names: ['sea_turtle_face']\n",
        "\"\"\"\n",
        "\n",
        "with open(DATA_YAML_PATH, 'w') as f:\n",
        "    f.write(data_yaml_content)\n",
        "\n",
        "print(f\"\\n{DATA_YAML_PATH} created successfully:\")\n",
        "print(data_yaml_content)\n",
        "\n",
        "# Optional: Verify a few files in the created structure\n",
        "print(\"\\nVerifying dataset structure (showing a few files):\")\n",
        "print(f\"Train Images ({os.path.join(BASE_DATA_DIR, 'images', 'train')}):\")\n",
        "!ls -l {os.path.join(BASE_DATA_DIR, 'images', 'train')} | head -n 3\n",
        "\n",
        "print(f\"\\nTrain Labels ({os.path.join(BASE_DATA_DIR, 'labels', 'train')}):\")\n",
        "!ls -l {os.path.join(BASE_DATA_DIR, 'labels', 'train')} | head -n 3\n",
        "\n",
        "print(f\"\\nValidation Images ({os.path.join(BASE_DATA_DIR, 'images', 'val')}):\")\n",
        "!ls -l {os.path.join(BASE_DATA_DIR, 'images', 'val')} | head -n 3\n",
        "\n",
        "print(f\"\\nValidation Labels ({os.path.join(BASE_DATA_DIR, 'labels', 'val')}):\")\n",
        "!ls -l {os.path.join(BASE_DATA_DIR, 'labels', 'val')} | head -n 3"
      ],
      "metadata": {
        "colab": {
          "base_uri": "https://localhost:8080/"
        },
        "id": "_P4Y05X_Y9QL",
        "outputId": "f8a2393f-b030-4ab1-c04d-0440f31d21f1"
      },
      "execution_count": 12,
      "outputs": [
        {
          "output_type": "stream",
          "name": "stdout",
          "text": [
            "\n",
            "/content/turtle_face_detection_dataset/data.yaml created successfully:\n",
            "\n",
            "path: /content/turtle_face_detection_dataset\n",
            "train: images/train\n",
            "val: images/val\n",
            "test: images/test\n",
            "nc: 1\n",
            "names: ['sea_turtle_face']\n",
            "\n",
            "\n",
            "Verifying dataset structure (showing a few files):\n",
            "Train Images (/content/turtle_face_detection_dataset/images/train):\n",
            "total 70908\n",
            "-rw-r--r-- 1 root root 90496 Jul 22 16:24 00380F21.JPG\n",
            "-rw-r--r-- 1 root root 64502 Jul 22 16:24 00C7A530.JPG\n",
            "\n",
            "Train Labels (/content/turtle_face_detection_dataset/labels/train):\n",
            "total 4240\n",
            "-rw-r--r-- 1 root root 78 Jul 22 16:24 00380F21.txt\n",
            "-rw-r--r-- 1 root root 78 Jul 22 16:24 00C7A530.txt\n",
            "\n",
            "Validation Images (/content/turtle_face_detection_dataset/images/val):\n",
            "total 17404\n",
            "-rw-r--r-- 1 root root  57859 Jul 22 16:24 00309D7D.JPG\n",
            "-rw-r--r-- 1 root root  67578 Jul 22 16:24 01BCAD69.JPG\n",
            "\n",
            "Validation Labels (/content/turtle_face_detection_dataset/labels/val):\n",
            "total 1064\n",
            "-rw-r--r-- 1 root root 71 Jul 22 16:24 00309D7D.txt\n",
            "-rw-r--r-- 1 root root 78 Jul 22 16:24 01BCAD69.txt\n"
          ]
        }
      ]
    },
    {
      "cell_type": "code",
      "source": [
        "# Step 3: Install YOLOv8 and Train Your Model\n",
        "\n",
        "# Install Ultralytics YOLOv8\n",
        "print(\"Installing Ultralytics YOLOv8...\")\n",
        "!pip install ultralytics==8.0.20\n",
        "print(\"YOLOv8 installed successfully.\")\n",
        "\n",
        "# Import YOLO model\n",
        "from ultralytics import YOLO\n",
        "\n",
        "# Load a pre-trained YOLOv8 model (e.g., yolov8n.pt for nano, or yolov8s.pt for small)\n",
        "# 'n' is faster and lighter, 's' is slightly larger but potentially more accurate.\n",
        "# For a first run, 'n' is a good choice to test the pipeline quickly.\n",
        "print(\"\\nLoading pre-trained YOLOv8n model...\")\n",
        "model = YOLO('yolov8n.pt')\n",
        "print(\"Model loaded.\")\n",
        "\n",
        "# Start training the model\n",
        "# Using the data.yaml created in the previous step\n",
        "# epochs: Number of training epochs (iterations over the dataset)\n",
        "# imgsz: Input image size (must match the images you prepared)\n",
        "# project: Name of the project where results will be saved\n",
        "# name: Name of the specific run within the project\n",
        "print(\"\\nStarting model training...\")\n",
        "results = model.train(\n",
        "    data=DATA_YAML_PATH, # Path to your data.yaml file\n",
        "    epochs=50,          # You can adjust this. 50-100 is common for initial training.\n",
        "    imgsz=512,          # Match the resolution of your prepared images\n",
        "    batch=16,           # Adjust based on your GPU memory. Lower if you get CUDA OOM errors.\n",
        "    # The default for device is '0' (for GPU) if available. No need to specify usually.\n",
        "    # If you want to use CPU, set device='cpu'\n",
        "    project='turtle_detection',\n",
        "    name='yolov8n_custom_turtle_face',\n",
        "    exist_ok=True       # Overwrite previous runs with the same name if they exist\n",
        ")\n",
        "print(\"Training complete.\")"
      ],
      "metadata": {
        "colab": {
          "base_uri": "https://localhost:8080/"
        },
        "id": "1Joc_Xz-Z0C4",
        "outputId": "d27739b1-bdbf-4c7c-a308-b072bd095492"
      },
      "execution_count": 13,
      "outputs": [
        {
          "output_type": "stream",
          "name": "stdout",
          "text": [
            "Installing Ultralytics YOLOv8...\n",
            "\u001b[31mERROR: Ignored the following yanked versions: 8.0.129, 8.0.174, 8.0.177, 8.1.21, 8.1.31, 8.2.7, 8.2.47\u001b[0m\u001b[31m\n",
            "\u001b[0m\u001b[31mERROR: Ignored the following versions that require a different python version: 8.0.10 Requires-Python >=3.7,<=3.11; 8.0.11 Requires-Python >=3.7,<=3.11; 8.0.12 Requires-Python >=3.7,<=3.11; 8.0.13 Requires-Python >=3.7,<=3.11; 8.0.14 Requires-Python >=3.7,<=3.11; 8.0.15 Requires-Python >=3.7,<=3.11; 8.0.16 Requires-Python >=3.7,<=3.11; 8.0.17 Requires-Python >=3.7,<=3.11; 8.0.18 Requires-Python >=3.7,<=3.11; 8.0.19 Requires-Python >=3.7,<=3.11; 8.0.20 Requires-Python >=3.7,<=3.11; 8.0.21 Requires-Python >=3.7,<=3.11; 8.0.22 Requires-Python >=3.7,<=3.11; 8.0.23 Requires-Python >=3.7,<=3.11; 8.0.24 Requires-Python >=3.7,<=3.11; 8.0.25 Requires-Python >=3.7,<=3.11; 8.0.26 Requires-Python >=3.7,<=3.11; 8.0.27 Requires-Python >=3.7,<=3.11; 8.0.28 Requires-Python >=3.7,<=3.11; 8.0.29 Requires-Python >=3.7,<=3.11; 8.0.30 Requires-Python >=3.7,<=3.11; 8.0.31 Requires-Python >=3.7,<=3.11; 8.0.32 Requires-Python >=3.7,<=3.11; 8.0.33 Requires-Python >=3.7,<=3.11; 8.0.34 Requires-Python >=3.7,<=3.11; 8.0.7 Requires-Python >=3.7,<=3.11; 8.0.8 Requires-Python >=3.7,<=3.11; 8.0.9 Requires-Python >=3.7,<=3.11\u001b[0m\u001b[31m\n",
            "\u001b[0m\u001b[31mERROR: Could not find a version that satisfies the requirement ultralytics==8.0.20 (from versions: 0.0.13, 0.0.14, 0.0.15, 0.0.16, 0.0.17, 0.0.18, 0.0.19, 0.0.20, 0.0.21, 0.0.22, 0.0.23, 0.0.24, 0.0.25, 0.0.26, 0.0.27, 0.0.28, 0.0.29, 0.0.30, 0.0.31, 0.0.32, 0.0.33, 0.0.34, 0.0.35, 0.0.36, 0.0.37, 0.0.38, 0.0.39, 0.0.40, 0.0.41, 0.0.42, 0.0.43, 0.0.44, 8.0.0, 8.0.1, 8.0.2, 8.0.3, 8.0.4, 8.0.5, 8.0.6, 8.0.35, 8.0.36, 8.0.37, 8.0.38, 8.0.39, 8.0.40, 8.0.41, 8.0.42, 8.0.43, 8.0.44, 8.0.45, 8.0.46, 8.0.47, 8.0.48, 8.0.49, 8.0.50, 8.0.51, 8.0.52, 8.0.53, 8.0.54, 8.0.55, 8.0.56, 8.0.57, 8.0.58, 8.0.59, 8.0.60, 8.0.61, 8.0.62, 8.0.63, 8.0.64, 8.0.65, 8.0.66, 8.0.67, 8.0.68, 8.0.69, 8.0.70, 8.0.71, 8.0.72, 8.0.73, 8.0.74, 8.0.75, 8.0.76, 8.0.77, 8.0.78, 8.0.79, 8.0.80, 8.0.81, 8.0.82, 8.0.83, 8.0.84, 8.0.85, 8.0.86, 8.0.87, 8.0.88, 8.0.89, 8.0.90, 8.0.91, 8.0.92, 8.0.93, 8.0.94, 8.0.95, 8.0.96, 8.0.97, 8.0.98, 8.0.99, 8.0.100, 8.0.101, 8.0.102, 8.0.103, 8.0.104, 8.0.105, 8.0.106, 8.0.107, 8.0.108, 8.0.109, 8.0.110, 8.0.111, 8.0.112, 8.0.113, 8.0.114, 8.0.115, 8.0.116, 8.0.117, 8.0.118, 8.0.119, 8.0.120, 8.0.121, 8.0.122, 8.0.123, 8.0.124, 8.0.125, 8.0.126, 8.0.127, 8.0.128, 8.0.130, 8.0.131, 8.0.132, 8.0.133, 8.0.134, 8.0.135, 8.0.136, 8.0.137, 8.0.138, 8.0.139, 8.0.140, 8.0.141, 8.0.142, 8.0.143, 8.0.144, 8.0.145, 8.0.146, 8.0.147, 8.0.148, 8.0.149, 8.0.150, 8.0.151, 8.0.152, 8.0.153, 8.0.154, 8.0.155, 8.0.156, 8.0.157, 8.0.158, 8.0.159, 8.0.160, 8.0.161, 8.0.162, 8.0.163, 8.0.164, 8.0.165, 8.0.166, 8.0.167, 8.0.168, 8.0.169, 8.0.170, 8.0.171, 8.0.172, 8.0.173, 8.0.175, 8.0.176, 8.0.178, 8.0.179, 8.0.180, 8.0.181, 8.0.182, 8.0.183, 8.0.184, 8.0.185, 8.0.186, 8.0.187, 8.0.188, 8.0.189, 8.0.190, 8.0.191, 8.0.192, 8.0.193, 8.0.194, 8.0.195, 8.0.196, 8.0.197, 8.0.198, 8.0.199, 8.0.200, 8.0.201, 8.0.202, 8.0.203, 8.0.204, 8.0.205, 8.0.206, 8.0.207, 8.0.208, 8.0.209, 8.0.210, 8.0.211, 8.0.212, 8.0.213, 8.0.214, 8.0.215, 8.0.216, 8.0.217, 8.0.218, 8.0.219, 8.0.220, 8.0.221, 8.0.222, 8.0.223, 8.0.224, 8.0.225, 8.0.226, 8.0.227, 8.0.228, 8.0.229, 8.0.230, 8.0.231, 8.0.232, 8.0.233, 8.0.234, 8.0.235, 8.0.236, 8.0.237, 8.0.238, 8.0.239, 8.1.0, 8.1.1, 8.1.2, 8.1.3, 8.1.4, 8.1.5, 8.1.6, 8.1.7, 8.1.8, 8.1.9, 8.1.10, 8.1.11, 8.1.12, 8.1.13, 8.1.14, 8.1.15, 8.1.16, 8.1.17, 8.1.18, 8.1.19, 8.1.20, 8.1.22, 8.1.23, 8.1.24, 8.1.25, 8.1.26, 8.1.27, 8.1.28, 8.1.29, 8.1.30, 8.1.32, 8.1.33, 8.1.34, 8.1.35, 8.1.36, 8.1.37, 8.1.38, 8.1.39, 8.1.40, 8.1.41, 8.1.42, 8.1.43, 8.1.44, 8.1.45, 8.1.46, 8.1.47, 8.2.0, 8.2.1, 8.2.2, 8.2.3, 8.2.4, 8.2.5, 8.2.6, 8.2.8, 8.2.9, 8.2.10, 8.2.11, 8.2.12, 8.2.13, 8.2.14, 8.2.15, 8.2.16, 8.2.17, 8.2.18, 8.2.19, 8.2.20, 8.2.21, 8.2.22, 8.2.23, 8.2.24, 8.2.25, 8.2.26, 8.2.27, 8.2.28, 8.2.29, 8.2.30, 8.2.31, 8.2.32, 8.2.33, 8.2.34, 8.2.35, 8.2.36, 8.2.37, 8.2.38, 8.2.39, 8.2.40, 8.2.41, 8.2.42, 8.2.43, 8.2.44, 8.2.45, 8.2.46, 8.2.48, 8.2.49, 8.2.50, 8.2.51, 8.2.52, 8.2.53, 8.2.54, 8.2.55, 8.2.56, 8.2.57, 8.2.58, 8.2.59, 8.2.60, 8.2.61, 8.2.62, 8.2.63, 8.2.64, 8.2.65, 8.2.66, 8.2.67, 8.2.68, 8.2.69, 8.2.70, 8.2.71, 8.2.72, 8.2.73, 8.2.74, 8.2.75, 8.2.76, 8.2.77, 8.2.78, 8.2.79, 8.2.80, 8.2.81, 8.2.82, 8.2.83, 8.2.84, 8.2.85, 8.2.86, 8.2.87, 8.2.88, 8.2.89, 8.2.90, 8.2.91, 8.2.92, 8.2.93, 8.2.94, 8.2.95, 8.2.96, 8.2.97, 8.2.98, 8.2.99, 8.2.100, 8.2.101, 8.2.102, 8.2.103, 8.3.0, 8.3.1, 8.3.2, 8.3.3, 8.3.4, 8.3.5, 8.3.6, 8.3.7, 8.3.8, 8.3.9, 8.3.10, 8.3.11, 8.3.12, 8.3.13, 8.3.14, 8.3.15, 8.3.16, 8.3.17, 8.3.18, 8.3.19, 8.3.20, 8.3.21, 8.3.22, 8.3.23, 8.3.24, 8.3.25, 8.3.26, 8.3.27, 8.3.28, 8.3.29, 8.3.30, 8.3.31, 8.3.32, 8.3.33, 8.3.34, 8.3.35, 8.3.36, 8.3.37, 8.3.38, 8.3.39, 8.3.40, 8.3.43, 8.3.44, 8.3.47, 8.3.48, 8.3.49, 8.3.50, 8.3.51, 8.3.52, 8.3.53, 8.3.54, 8.3.55, 8.3.56, 8.3.57, 8.3.58, 8.3.59, 8.3.60, 8.3.61, 8.3.62, 8.3.63, 8.3.64, 8.3.65, 8.3.66, 8.3.67, 8.3.68, 8.3.69, 8.3.70, 8.3.71, 8.3.72, 8.3.73, 8.3.74, 8.3.75, 8.3.76, 8.3.77, 8.3.78, 8.3.79, 8.3.80, 8.3.81, 8.3.82, 8.3.83, 8.3.84, 8.3.85, 8.3.86, 8.3.87, 8.3.88, 8.3.89, 8.3.90, 8.3.91, 8.3.92, 8.3.93, 8.3.94, 8.3.95, 8.3.96, 8.3.97, 8.3.98, 8.3.99, 8.3.100, 8.3.101, 8.3.102, 8.3.103, 8.3.104, 8.3.105, 8.3.106, 8.3.107, 8.3.108, 8.3.109, 8.3.110, 8.3.111, 8.3.112, 8.3.113, 8.3.114, 8.3.115, 8.3.116, 8.3.117, 8.3.118, 8.3.119, 8.3.120, 8.3.121, 8.3.122, 8.3.123, 8.3.124, 8.3.125, 8.3.126, 8.3.127, 8.3.128, 8.3.129, 8.3.130, 8.3.131, 8.3.132, 8.3.133, 8.3.134, 8.3.135, 8.3.136, 8.3.137, 8.3.138, 8.3.139, 8.3.140, 8.3.141, 8.3.142, 8.3.143, 8.3.144, 8.3.145, 8.3.146, 8.3.147, 8.3.148, 8.3.149, 8.3.150, 8.3.151, 8.3.152, 8.3.153, 8.3.154, 8.3.155, 8.3.156, 8.3.157, 8.3.158, 8.3.159, 8.3.160, 8.3.161, 8.3.162, 8.3.163, 8.3.164, 8.3.165, 8.3.166, 8.3.167, 8.3.168, 8.3.169)\u001b[0m\u001b[31m\n",
            "\u001b[0m\u001b[31mERROR: No matching distribution found for ultralytics==8.0.20\u001b[0m\u001b[31m\n",
            "\u001b[0mYOLOv8 installed successfully.\n",
            "Creating new Ultralytics Settings v0.0.6 file ✅ \n",
            "View Ultralytics Settings with 'yolo settings' or at '/root/.config/Ultralytics/settings.json'\n",
            "Update Settings with 'yolo settings key=value', i.e. 'yolo settings runs_dir=path/to/dir'. For help see https://docs.ultralytics.com/quickstart/#ultralytics-settings.\n",
            "\n",
            "Loading pre-trained YOLOv8n model...\n",
            "Downloading https://github.com/ultralytics/assets/releases/download/v8.3.0/yolov8n.pt to 'yolov8n.pt'...\n"
          ]
        },
        {
          "output_type": "stream",
          "name": "stderr",
          "text": [
            "100%|██████████| 6.25M/6.25M [00:00<00:00, 183MB/s]\n"
          ]
        },
        {
          "output_type": "stream",
          "name": "stdout",
          "text": [
            "Model loaded.\n",
            "\n",
            "Starting model training...\n",
            "Ultralytics 8.3.169 🚀 Python-3.11.13 torch-2.6.0+cu124 CUDA:0 (Tesla T4, 15095MiB)\n",
            "\u001b[34m\u001b[1mengine/trainer: \u001b[0magnostic_nms=False, amp=True, augment=False, auto_augment=randaugment, batch=16, bgr=0.0, box=7.5, cache=False, cfg=None, classes=None, close_mosaic=10, cls=0.5, conf=None, copy_paste=0.0, copy_paste_mode=flip, cos_lr=False, cutmix=0.0, data=/content/turtle_face_detection_dataset/data.yaml, degrees=0.0, deterministic=True, device=None, dfl=1.5, dnn=False, dropout=0.0, dynamic=False, embed=None, epochs=50, erasing=0.4, exist_ok=True, fliplr=0.5, flipud=0.0, format=torchscript, fraction=1.0, freeze=None, half=False, hsv_h=0.015, hsv_s=0.7, hsv_v=0.4, imgsz=512, int8=False, iou=0.7, keras=False, kobj=1.0, line_width=None, lr0=0.01, lrf=0.01, mask_ratio=4, max_det=300, mixup=0.0, mode=train, model=yolov8n.pt, momentum=0.937, mosaic=1.0, multi_scale=False, name=yolov8n_custom_turtle_face, nbs=64, nms=False, opset=None, optimize=False, optimizer=auto, overlap_mask=True, patience=100, perspective=0.0, plots=True, pose=12.0, pretrained=True, profile=False, project=turtle_detection, rect=False, resume=False, retina_masks=False, save=True, save_conf=False, save_crop=False, save_dir=turtle_detection/yolov8n_custom_turtle_face, save_frames=False, save_json=False, save_period=-1, save_txt=False, scale=0.5, seed=0, shear=0.0, show=False, show_boxes=True, show_conf=True, show_labels=True, simplify=True, single_cls=False, source=None, split=val, stream_buffer=False, task=detect, time=None, tracker=botsort.yaml, translate=0.1, val=True, verbose=True, vid_stride=1, visualize=False, warmup_bias_lr=0.1, warmup_epochs=3.0, warmup_momentum=0.8, weight_decay=0.0005, workers=8, workspace=None\n",
            "Downloading https://ultralytics.com/assets/Arial.ttf to '/root/.config/Ultralytics/Arial.ttf'...\n"
          ]
        },
        {
          "output_type": "stream",
          "name": "stderr",
          "text": [
            "100%|██████████| 755k/755k [00:00<00:00, 40.2MB/s]"
          ]
        },
        {
          "output_type": "stream",
          "name": "stdout",
          "text": [
            "Overriding model.yaml nc=80 with nc=1\n",
            "\n",
            "                   from  n    params  module                                       arguments                     \n",
            "  0                  -1  1       464  ultralytics.nn.modules.conv.Conv             [3, 16, 3, 2]                 \n",
            "  1                  -1  1      4672  ultralytics.nn.modules.conv.Conv             [16, 32, 3, 2]                \n",
            "  2                  -1  1      7360  ultralytics.nn.modules.block.C2f             [32, 32, 1, True]             \n",
            "  3                  -1  1     18560  ultralytics.nn.modules.conv.Conv             [32, 64, 3, 2]                \n",
            "  4                  -1  2     49664  ultralytics.nn.modules.block.C2f             [64, 64, 2, True]             \n",
            "  5                  -1  1     73984  ultralytics.nn.modules.conv.Conv             [64, 128, 3, 2]               \n",
            "  6                  -1  2    197632  ultralytics.nn.modules.block.C2f             [128, 128, 2, True]           \n",
            "  7                  -1  1    295424  ultralytics.nn.modules.conv.Conv             [128, 256, 3, 2]              \n",
            "  8                  -1  1    460288  ultralytics.nn.modules.block.C2f             [256, 256, 1, True]           \n",
            "  9                  -1  1    164608  ultralytics.nn.modules.block.SPPF            [256, 256, 5]                 \n",
            " 10                  -1  1         0  torch.nn.modules.upsampling.Upsample         [None, 2, 'nearest']          \n",
            " 11             [-1, 6]  1         0  ultralytics.nn.modules.conv.Concat           [1]                           \n",
            " 12                  -1  1    148224  ultralytics.nn.modules.block.C2f             [384, 128, 1]                 \n",
            " 13                  -1  1         0  torch.nn.modules.upsampling.Upsample         [None, 2, 'nearest']          \n",
            " 14             [-1, 4]  1         0  ultralytics.nn.modules.conv.Concat           [1]                           \n",
            " 15                  -1  1     37248  ultralytics.nn.modules.block.C2f             [192, 64, 1]                  \n",
            " 16                  -1  1     36992  ultralytics.nn.modules.conv.Conv             [64, 64, 3, 2]                \n",
            " 17            [-1, 12]  1         0  ultralytics.nn.modules.conv.Concat           [1]                           \n",
            " 18                  -1  1    123648  ultralytics.nn.modules.block.C2f             [192, 128, 1]                 \n",
            " 19                  -1  1    147712  ultralytics.nn.modules.conv.Conv             [128, 128, 3, 2]              \n",
            " 20             [-1, 9]  1         0  ultralytics.nn.modules.conv.Concat           [1]                           \n",
            " 21                  -1  1    493056  ultralytics.nn.modules.block.C2f             [384, 256, 1]                 \n",
            " 22        [15, 18, 21]  1    751507  ultralytics.nn.modules.head.Detect           [1, [64, 128, 256]]           \n"
          ]
        },
        {
          "output_type": "stream",
          "name": "stderr",
          "text": [
            "\n"
          ]
        },
        {
          "output_type": "stream",
          "name": "stdout",
          "text": [
            "Model summary: 129 layers, 3,011,043 parameters, 3,011,027 gradients, 8.2 GFLOPs\n",
            "\n",
            "Transferred 319/355 items from pretrained weights\n",
            "Freezing layer 'model.22.dfl.conv.weight'\n",
            "\u001b[34m\u001b[1mAMP: \u001b[0mrunning Automatic Mixed Precision (AMP) checks...\n",
            "Downloading https://github.com/ultralytics/assets/releases/download/v8.3.0/yolo11n.pt to 'yolo11n.pt'...\n"
          ]
        },
        {
          "output_type": "stream",
          "name": "stderr",
          "text": [
            "100%|██████████| 5.35M/5.35M [00:00<00:00, 151MB/s]\n"
          ]
        },
        {
          "output_type": "stream",
          "name": "stdout",
          "text": [
            "\u001b[34m\u001b[1mAMP: \u001b[0mchecks passed ✅\n",
            "\u001b[34m\u001b[1mtrain: \u001b[0mFast image access ✅ (ping: 0.0±0.0 ms, read: 1121.5±795.8 MB/s, size: 67.9 KB)\n"
          ]
        },
        {
          "output_type": "stream",
          "name": "stderr",
          "text": [
            "\u001b[34m\u001b[1mtrain: \u001b[0mScanning /content/turtle_face_detection_dataset/labels/train... 1060 images, 0 backgrounds, 0 corrupt: 100%|██████████| 1060/1060 [00:00<00:00, 2367.28it/s]"
          ]
        },
        {
          "output_type": "stream",
          "name": "stdout",
          "text": [
            "\u001b[34m\u001b[1mtrain: \u001b[0mNew cache created: /content/turtle_face_detection_dataset/labels/train.cache\n"
          ]
        },
        {
          "output_type": "stream",
          "name": "stderr",
          "text": [
            "\n"
          ]
        },
        {
          "output_type": "stream",
          "name": "stdout",
          "text": [
            "\u001b[34m\u001b[1malbumentations: \u001b[0mBlur(p=0.01, blur_limit=(3, 7)), MedianBlur(p=0.01, blur_limit=(3, 7)), ToGray(p=0.01, method='weighted_average', num_output_channels=3), CLAHE(p=0.01, clip_limit=(1.0, 4.0), tile_grid_size=(8, 8))\n",
            "\u001b[34m\u001b[1mval: \u001b[0mFast image access ✅ (ping: 0.0±0.0 ms, read: 699.4±597.9 MB/s, size: 62.9 KB)\n"
          ]
        },
        {
          "output_type": "stream",
          "name": "stderr",
          "text": [
            "\u001b[34m\u001b[1mval: \u001b[0mScanning /content/turtle_face_detection_dataset/labels/val... 266 images, 0 backgrounds, 0 corrupt: 100%|██████████| 266/266 [00:00<00:00, 1351.35it/s]\n"
          ]
        },
        {
          "output_type": "stream",
          "name": "stdout",
          "text": [
            "\u001b[34m\u001b[1mval: \u001b[0mNew cache created: /content/turtle_face_detection_dataset/labels/val.cache\n",
            "Plotting labels to turtle_detection/yolov8n_custom_turtle_face/labels.jpg... \n",
            "\u001b[34m\u001b[1moptimizer:\u001b[0m 'optimizer=auto' found, ignoring 'lr0=0.01' and 'momentum=0.937' and determining best 'optimizer', 'lr0' and 'momentum' automatically... \n",
            "\u001b[34m\u001b[1moptimizer:\u001b[0m AdamW(lr=0.002, momentum=0.9) with parameter groups 57 weight(decay=0.0), 64 weight(decay=0.0005), 63 bias(decay=0.0)\n",
            "Image sizes 512 train, 512 val\n",
            "Using 2 dataloader workers\n",
            "Logging results to \u001b[1mturtle_detection/yolov8n_custom_turtle_face\u001b[0m\n",
            "Starting training for 50 epochs...\n",
            "\n",
            "      Epoch    GPU_mem   box_loss   cls_loss   dfl_loss  Instances       Size\n"
          ]
        },
        {
          "output_type": "stream",
          "name": "stderr",
          "text": [
            "       1/50      1.33G      2.552      3.437      2.533          8        512: 100%|██████████| 67/67 [00:15<00:00,  4.22it/s]\n",
            "                 Class     Images  Instances      Box(P          R      mAP50  mAP50-95): 100%|██████████| 9/9 [00:02<00:00,  3.33it/s]\n"
          ]
        },
        {
          "output_type": "stream",
          "name": "stdout",
          "text": [
            "                   all        266        266    0.00821      0.914      0.244     0.0652\n",
            "\n",
            "      Epoch    GPU_mem   box_loss   cls_loss   dfl_loss  Instances       Size\n"
          ]
        },
        {
          "output_type": "stream",
          "name": "stderr",
          "text": [
            "       2/50      1.49G      1.969      2.481      2.024          8        512: 100%|██████████| 67/67 [00:13<00:00,  4.83it/s]\n",
            "                 Class     Images  Instances      Box(P          R      mAP50  mAP50-95): 100%|██████████| 9/9 [00:01<00:00,  6.14it/s]"
          ]
        },
        {
          "output_type": "stream",
          "name": "stdout",
          "text": [
            "                   all        266        266     0.0798      0.139     0.0374    0.00701\n"
          ]
        },
        {
          "output_type": "stream",
          "name": "stderr",
          "text": [
            "\n"
          ]
        },
        {
          "output_type": "stream",
          "name": "stdout",
          "text": [
            "\n",
            "      Epoch    GPU_mem   box_loss   cls_loss   dfl_loss  Instances       Size\n"
          ]
        },
        {
          "output_type": "stream",
          "name": "stderr",
          "text": [
            "       3/50      1.51G      1.842      2.198      1.925          7        512: 100%|██████████| 67/67 [00:13<00:00,  4.93it/s]\n",
            "                 Class     Images  Instances      Box(P          R      mAP50  mAP50-95): 100%|██████████| 9/9 [00:01<00:00,  5.83it/s]"
          ]
        },
        {
          "output_type": "stream",
          "name": "stdout",
          "text": [
            "                   all        266        266      0.181      0.643      0.179      0.063\n"
          ]
        },
        {
          "output_type": "stream",
          "name": "stderr",
          "text": [
            "\n"
          ]
        },
        {
          "output_type": "stream",
          "name": "stdout",
          "text": [
            "\n",
            "      Epoch    GPU_mem   box_loss   cls_loss   dfl_loss  Instances       Size\n"
          ]
        },
        {
          "output_type": "stream",
          "name": "stderr",
          "text": [
            "       4/50      1.53G      1.755      1.974      1.858         11        512: 100%|██████████| 67/67 [00:13<00:00,  4.92it/s]\n",
            "                 Class     Images  Instances      Box(P          R      mAP50  mAP50-95): 100%|██████████| 9/9 [00:01<00:00,  6.18it/s]"
          ]
        },
        {
          "output_type": "stream",
          "name": "stdout",
          "text": [
            "                   all        266        266      0.518      0.774      0.526      0.247\n"
          ]
        },
        {
          "output_type": "stream",
          "name": "stderr",
          "text": [
            "\n"
          ]
        },
        {
          "output_type": "stream",
          "name": "stdout",
          "text": [
            "\n",
            "      Epoch    GPU_mem   box_loss   cls_loss   dfl_loss  Instances       Size\n"
          ]
        },
        {
          "output_type": "stream",
          "name": "stderr",
          "text": [
            "       5/50      1.54G      1.694      1.823      1.805         12        512: 100%|██████████| 67/67 [00:13<00:00,  4.94it/s]\n",
            "                 Class     Images  Instances      Box(P          R      mAP50  mAP50-95): 100%|██████████| 9/9 [00:01<00:00,  6.18it/s]"
          ]
        },
        {
          "output_type": "stream",
          "name": "stdout",
          "text": [
            "                   all        266        266      0.425      0.642      0.486      0.226\n"
          ]
        },
        {
          "output_type": "stream",
          "name": "stderr",
          "text": [
            "\n"
          ]
        },
        {
          "output_type": "stream",
          "name": "stdout",
          "text": [
            "\n",
            "      Epoch    GPU_mem   box_loss   cls_loss   dfl_loss  Instances       Size\n"
          ]
        },
        {
          "output_type": "stream",
          "name": "stderr",
          "text": [
            "       6/50      1.56G      1.618      1.724      1.749          4        512: 100%|██████████| 67/67 [00:13<00:00,  4.92it/s]\n",
            "                 Class     Images  Instances      Box(P          R      mAP50  mAP50-95): 100%|██████████| 9/9 [00:01<00:00,  5.01it/s]\n"
          ]
        },
        {
          "output_type": "stream",
          "name": "stdout",
          "text": [
            "                   all        266        266      0.707      0.673      0.757      0.388\n",
            "\n",
            "      Epoch    GPU_mem   box_loss   cls_loss   dfl_loss  Instances       Size\n"
          ]
        },
        {
          "output_type": "stream",
          "name": "stderr",
          "text": [
            "       7/50      1.58G       1.54        1.6       1.69         13        512: 100%|██████████| 67/67 [00:13<00:00,  5.09it/s]\n",
            "                 Class     Images  Instances      Box(P          R      mAP50  mAP50-95): 100%|██████████| 9/9 [00:02<00:00,  3.80it/s]"
          ]
        },
        {
          "output_type": "stream",
          "name": "stdout",
          "text": [
            "                   all        266        266      0.735      0.797      0.844      0.487\n"
          ]
        },
        {
          "output_type": "stream",
          "name": "stderr",
          "text": [
            "\n"
          ]
        },
        {
          "output_type": "stream",
          "name": "stdout",
          "text": [
            "\n",
            "      Epoch    GPU_mem   box_loss   cls_loss   dfl_loss  Instances       Size\n"
          ]
        },
        {
          "output_type": "stream",
          "name": "stderr",
          "text": [
            "       8/50       1.6G       1.52      1.537      1.685         13        512: 100%|██████████| 67/67 [00:12<00:00,  5.16it/s]\n",
            "                 Class     Images  Instances      Box(P          R      mAP50  mAP50-95): 100%|██████████| 9/9 [00:02<00:00,  4.05it/s]"
          ]
        },
        {
          "output_type": "stream",
          "name": "stdout",
          "text": [
            "                   all        266        266      0.688      0.718      0.779      0.449\n"
          ]
        },
        {
          "output_type": "stream",
          "name": "stderr",
          "text": [
            "\n"
          ]
        },
        {
          "output_type": "stream",
          "name": "stdout",
          "text": [
            "\n",
            "      Epoch    GPU_mem   box_loss   cls_loss   dfl_loss  Instances       Size\n"
          ]
        },
        {
          "output_type": "stream",
          "name": "stderr",
          "text": [
            "       9/50      1.61G      1.469      1.459      1.621         12        512: 100%|██████████| 67/67 [00:13<00:00,  5.09it/s]\n",
            "                 Class     Images  Instances      Box(P          R      mAP50  mAP50-95): 100%|██████████| 9/9 [00:01<00:00,  5.71it/s]"
          ]
        },
        {
          "output_type": "stream",
          "name": "stdout",
          "text": [
            "                   all        266        266      0.814      0.782      0.865      0.569\n"
          ]
        },
        {
          "output_type": "stream",
          "name": "stderr",
          "text": [
            "\n"
          ]
        },
        {
          "output_type": "stream",
          "name": "stdout",
          "text": [
            "\n",
            "      Epoch    GPU_mem   box_loss   cls_loss   dfl_loss  Instances       Size\n"
          ]
        },
        {
          "output_type": "stream",
          "name": "stderr",
          "text": [
            "      10/50      1.63G      1.451      1.384       1.62          4        512: 100%|██████████| 67/67 [00:13<00:00,  5.09it/s]\n",
            "                 Class     Images  Instances      Box(P          R      mAP50  mAP50-95): 100%|██████████| 9/9 [00:01<00:00,  6.31it/s]"
          ]
        },
        {
          "output_type": "stream",
          "name": "stdout",
          "text": [
            "                   all        266        266      0.738      0.761      0.781      0.482\n"
          ]
        },
        {
          "output_type": "stream",
          "name": "stderr",
          "text": [
            "\n"
          ]
        },
        {
          "output_type": "stream",
          "name": "stdout",
          "text": [
            "\n",
            "      Epoch    GPU_mem   box_loss   cls_loss   dfl_loss  Instances       Size\n"
          ]
        },
        {
          "output_type": "stream",
          "name": "stderr",
          "text": [
            "      11/50      1.65G      1.358      1.281      1.518         10        512: 100%|██████████| 67/67 [00:13<00:00,  5.06it/s]\n",
            "                 Class     Images  Instances      Box(P          R      mAP50  mAP50-95): 100%|██████████| 9/9 [00:01<00:00,  6.66it/s]"
          ]
        },
        {
          "output_type": "stream",
          "name": "stdout",
          "text": [
            "                   all        266        266        0.6      0.865      0.733      0.476\n"
          ]
        },
        {
          "output_type": "stream",
          "name": "stderr",
          "text": [
            "\n"
          ]
        },
        {
          "output_type": "stream",
          "name": "stdout",
          "text": [
            "\n",
            "      Epoch    GPU_mem   box_loss   cls_loss   dfl_loss  Instances       Size\n"
          ]
        },
        {
          "output_type": "stream",
          "name": "stderr",
          "text": [
            "      12/50      1.67G      1.322      1.221      1.509         11        512: 100%|██████████| 67/67 [00:13<00:00,  5.13it/s]\n",
            "                 Class     Images  Instances      Box(P          R      mAP50  mAP50-95): 100%|██████████| 9/9 [00:01<00:00,  6.53it/s]"
          ]
        },
        {
          "output_type": "stream",
          "name": "stdout",
          "text": [
            "                   all        266        266      0.701       0.82      0.801      0.507\n"
          ]
        },
        {
          "output_type": "stream",
          "name": "stderr",
          "text": [
            "\n"
          ]
        },
        {
          "output_type": "stream",
          "name": "stdout",
          "text": [
            "\n",
            "      Epoch    GPU_mem   box_loss   cls_loss   dfl_loss  Instances       Size\n"
          ]
        },
        {
          "output_type": "stream",
          "name": "stderr",
          "text": [
            "      13/50      1.67G      1.347      1.275      1.538          7        512: 100%|██████████| 67/67 [00:13<00:00,  5.02it/s]\n",
            "                 Class     Images  Instances      Box(P          R      mAP50  mAP50-95): 100%|██████████| 9/9 [00:01<00:00,  6.65it/s]"
          ]
        },
        {
          "output_type": "stream",
          "name": "stdout",
          "text": [
            "                   all        266        266      0.896      0.891      0.942      0.615\n"
          ]
        },
        {
          "output_type": "stream",
          "name": "stderr",
          "text": [
            "\n"
          ]
        },
        {
          "output_type": "stream",
          "name": "stdout",
          "text": [
            "\n",
            "      Epoch    GPU_mem   box_loss   cls_loss   dfl_loss  Instances       Size\n"
          ]
        },
        {
          "output_type": "stream",
          "name": "stderr",
          "text": [
            "      14/50       1.7G      1.319        1.2        1.5          8        512: 100%|██████████| 67/67 [00:13<00:00,  5.03it/s]\n",
            "                 Class     Images  Instances      Box(P          R      mAP50  mAP50-95): 100%|██████████| 9/9 [00:01<00:00,  6.75it/s]"
          ]
        },
        {
          "output_type": "stream",
          "name": "stdout",
          "text": [
            "                   all        266        266      0.858      0.831      0.915      0.572\n"
          ]
        },
        {
          "output_type": "stream",
          "name": "stderr",
          "text": [
            "\n"
          ]
        },
        {
          "output_type": "stream",
          "name": "stdout",
          "text": [
            "\n",
            "      Epoch    GPU_mem   box_loss   cls_loss   dfl_loss  Instances       Size\n"
          ]
        },
        {
          "output_type": "stream",
          "name": "stderr",
          "text": [
            "      15/50      1.72G      1.278      1.158      1.477         10        512: 100%|██████████| 67/67 [00:13<00:00,  5.01it/s]\n",
            "                 Class     Images  Instances      Box(P          R      mAP50  mAP50-95): 100%|██████████| 9/9 [00:01<00:00,  6.51it/s]"
          ]
        },
        {
          "output_type": "stream",
          "name": "stdout",
          "text": [
            "                   all        266        266      0.873      0.852      0.922      0.632\n"
          ]
        },
        {
          "output_type": "stream",
          "name": "stderr",
          "text": [
            "\n"
          ]
        },
        {
          "output_type": "stream",
          "name": "stdout",
          "text": [
            "\n",
            "      Epoch    GPU_mem   box_loss   cls_loss   dfl_loss  Instances       Size\n"
          ]
        },
        {
          "output_type": "stream",
          "name": "stderr",
          "text": [
            "      16/50      1.73G      1.258      1.158      1.462          8        512: 100%|██████████| 67/67 [00:13<00:00,  5.03it/s]\n",
            "                 Class     Images  Instances      Box(P          R      mAP50  mAP50-95): 100%|██████████| 9/9 [00:01<00:00,  6.69it/s]"
          ]
        },
        {
          "output_type": "stream",
          "name": "stdout",
          "text": [
            "                   all        266        266      0.852      0.824       0.91      0.615\n"
          ]
        },
        {
          "output_type": "stream",
          "name": "stderr",
          "text": [
            "\n"
          ]
        },
        {
          "output_type": "stream",
          "name": "stdout",
          "text": [
            "\n",
            "      Epoch    GPU_mem   box_loss   cls_loss   dfl_loss  Instances       Size\n"
          ]
        },
        {
          "output_type": "stream",
          "name": "stderr",
          "text": [
            "      17/50      1.74G      1.224      1.087      1.429         11        512: 100%|██████████| 67/67 [00:13<00:00,  5.06it/s]\n",
            "                 Class     Images  Instances      Box(P          R      mAP50  mAP50-95): 100%|██████████| 9/9 [00:01<00:00,  6.32it/s]"
          ]
        },
        {
          "output_type": "stream",
          "name": "stdout",
          "text": [
            "                   all        266        266      0.839      0.862      0.882      0.628\n"
          ]
        },
        {
          "output_type": "stream",
          "name": "stderr",
          "text": [
            "\n"
          ]
        },
        {
          "output_type": "stream",
          "name": "stdout",
          "text": [
            "\n",
            "      Epoch    GPU_mem   box_loss   cls_loss   dfl_loss  Instances       Size\n"
          ]
        },
        {
          "output_type": "stream",
          "name": "stderr",
          "text": [
            "      18/50      1.77G      1.205      1.087      1.421         11        512: 100%|██████████| 67/67 [00:13<00:00,  4.95it/s]\n",
            "                 Class     Images  Instances      Box(P          R      mAP50  mAP50-95): 100%|██████████| 9/9 [00:01<00:00,  6.81it/s]"
          ]
        },
        {
          "output_type": "stream",
          "name": "stdout",
          "text": [
            "                   all        266        266      0.918      0.906      0.958      0.673\n"
          ]
        },
        {
          "output_type": "stream",
          "name": "stderr",
          "text": [
            "\n"
          ]
        },
        {
          "output_type": "stream",
          "name": "stdout",
          "text": [
            "\n",
            "      Epoch    GPU_mem   box_loss   cls_loss   dfl_loss  Instances       Size\n"
          ]
        },
        {
          "output_type": "stream",
          "name": "stderr",
          "text": [
            "      19/50      1.79G      1.198      1.021      1.419          6        512: 100%|██████████| 67/67 [00:13<00:00,  5.05it/s]\n",
            "                 Class     Images  Instances      Box(P          R      mAP50  mAP50-95): 100%|██████████| 9/9 [00:01<00:00,  6.04it/s]"
          ]
        },
        {
          "output_type": "stream",
          "name": "stdout",
          "text": [
            "                   all        266        266      0.853      0.852      0.906        0.6\n"
          ]
        },
        {
          "output_type": "stream",
          "name": "stderr",
          "text": [
            "\n"
          ]
        },
        {
          "output_type": "stream",
          "name": "stdout",
          "text": [
            "\n",
            "      Epoch    GPU_mem   box_loss   cls_loss   dfl_loss  Instances       Size\n"
          ]
        },
        {
          "output_type": "stream",
          "name": "stderr",
          "text": [
            "      20/50       1.8G      1.237      1.036      1.446          6        512: 100%|██████████| 67/67 [00:13<00:00,  5.06it/s]\n",
            "                 Class     Images  Instances      Box(P          R      mAP50  mAP50-95): 100%|██████████| 9/9 [00:01<00:00,  6.45it/s]"
          ]
        },
        {
          "output_type": "stream",
          "name": "stdout",
          "text": [
            "                   all        266        266       0.81      0.902      0.874      0.639\n"
          ]
        },
        {
          "output_type": "stream",
          "name": "stderr",
          "text": [
            "\n"
          ]
        },
        {
          "output_type": "stream",
          "name": "stdout",
          "text": [
            "\n",
            "      Epoch    GPU_mem   box_loss   cls_loss   dfl_loss  Instances       Size\n"
          ]
        },
        {
          "output_type": "stream",
          "name": "stderr",
          "text": [
            "      21/50      1.81G      1.166      1.001      1.398          7        512: 100%|██████████| 67/67 [00:12<00:00,  5.16it/s]\n",
            "                 Class     Images  Instances      Box(P          R      mAP50  mAP50-95): 100%|██████████| 9/9 [00:01<00:00,  4.93it/s]"
          ]
        },
        {
          "output_type": "stream",
          "name": "stdout",
          "text": [
            "                   all        266        266      0.914      0.951      0.967      0.671\n"
          ]
        },
        {
          "output_type": "stream",
          "name": "stderr",
          "text": [
            "\n"
          ]
        },
        {
          "output_type": "stream",
          "name": "stdout",
          "text": [
            "\n",
            "      Epoch    GPU_mem   box_loss   cls_loss   dfl_loss  Instances       Size\n"
          ]
        },
        {
          "output_type": "stream",
          "name": "stderr",
          "text": [
            "      22/50      1.84G       1.15      1.002      1.386         11        512: 100%|██████████| 67/67 [00:12<00:00,  5.22it/s]\n",
            "                 Class     Images  Instances      Box(P          R      mAP50  mAP50-95): 100%|██████████| 9/9 [00:02<00:00,  4.08it/s]"
          ]
        },
        {
          "output_type": "stream",
          "name": "stdout",
          "text": [
            "                   all        266        266      0.865      0.929      0.944      0.666\n"
          ]
        },
        {
          "output_type": "stream",
          "name": "stderr",
          "text": [
            "\n"
          ]
        },
        {
          "output_type": "stream",
          "name": "stdout",
          "text": [
            "\n",
            "      Epoch    GPU_mem   box_loss   cls_loss   dfl_loss  Instances       Size\n"
          ]
        },
        {
          "output_type": "stream",
          "name": "stderr",
          "text": [
            "      23/50      1.85G       1.13     0.9691      1.367          6        512: 100%|██████████| 67/67 [00:12<00:00,  5.43it/s]\n",
            "                 Class     Images  Instances      Box(P          R      mAP50  mAP50-95): 100%|██████████| 9/9 [00:02<00:00,  3.86it/s]"
          ]
        },
        {
          "output_type": "stream",
          "name": "stdout",
          "text": [
            "                   all        266        266       0.87      0.865      0.934      0.682\n"
          ]
        },
        {
          "output_type": "stream",
          "name": "stderr",
          "text": [
            "\n"
          ]
        },
        {
          "output_type": "stream",
          "name": "stdout",
          "text": [
            "\n",
            "      Epoch    GPU_mem   box_loss   cls_loss   dfl_loss  Instances       Size\n"
          ]
        },
        {
          "output_type": "stream",
          "name": "stderr",
          "text": [
            "      24/50      1.87G       1.09     0.9567      1.335          7        512: 100%|██████████| 67/67 [00:12<00:00,  5.41it/s]\n",
            "                 Class     Images  Instances      Box(P          R      mAP50  mAP50-95): 100%|██████████| 9/9 [00:02<00:00,  4.41it/s]"
          ]
        },
        {
          "output_type": "stream",
          "name": "stdout",
          "text": [
            "                   all        266        266      0.926       0.91       0.95      0.702\n"
          ]
        },
        {
          "output_type": "stream",
          "name": "stderr",
          "text": [
            "\n"
          ]
        },
        {
          "output_type": "stream",
          "name": "stdout",
          "text": [
            "\n",
            "      Epoch    GPU_mem   box_loss   cls_loss   dfl_loss  Instances       Size\n"
          ]
        },
        {
          "output_type": "stream",
          "name": "stderr",
          "text": [
            "      25/50      1.88G      1.123     0.9374      1.361          8        512: 100%|██████████| 67/67 [00:12<00:00,  5.26it/s]\n",
            "                 Class     Images  Instances      Box(P          R      mAP50  mAP50-95): 100%|██████████| 9/9 [00:01<00:00,  5.09it/s]"
          ]
        },
        {
          "output_type": "stream",
          "name": "stdout",
          "text": [
            "                   all        266        266      0.828      0.797      0.891      0.637\n"
          ]
        },
        {
          "output_type": "stream",
          "name": "stderr",
          "text": [
            "\n"
          ]
        },
        {
          "output_type": "stream",
          "name": "stdout",
          "text": [
            "\n",
            "      Epoch    GPU_mem   box_loss   cls_loss   dfl_loss  Instances       Size\n"
          ]
        },
        {
          "output_type": "stream",
          "name": "stderr",
          "text": [
            "      26/50       1.9G      1.085     0.9247      1.327          6        512: 100%|██████████| 67/67 [00:13<00:00,  5.07it/s]\n",
            "                 Class     Images  Instances      Box(P          R      mAP50  mAP50-95): 100%|██████████| 9/9 [00:01<00:00,  6.31it/s]"
          ]
        },
        {
          "output_type": "stream",
          "name": "stdout",
          "text": [
            "                   all        266        266      0.937      0.947      0.966       0.72\n"
          ]
        },
        {
          "output_type": "stream",
          "name": "stderr",
          "text": [
            "\n"
          ]
        },
        {
          "output_type": "stream",
          "name": "stdout",
          "text": [
            "\n",
            "      Epoch    GPU_mem   box_loss   cls_loss   dfl_loss  Instances       Size\n"
          ]
        },
        {
          "output_type": "stream",
          "name": "stderr",
          "text": [
            "      27/50      1.92G      1.111      0.944      1.352          5        512: 100%|██████████| 67/67 [00:13<00:00,  5.07it/s]\n",
            "                 Class     Images  Instances      Box(P          R      mAP50  mAP50-95): 100%|██████████| 9/9 [00:01<00:00,  6.47it/s]"
          ]
        },
        {
          "output_type": "stream",
          "name": "stdout",
          "text": [
            "                   all        266        266      0.923      0.936      0.962      0.702\n"
          ]
        },
        {
          "output_type": "stream",
          "name": "stderr",
          "text": [
            "\n"
          ]
        },
        {
          "output_type": "stream",
          "name": "stdout",
          "text": [
            "\n",
            "      Epoch    GPU_mem   box_loss   cls_loss   dfl_loss  Instances       Size\n"
          ]
        },
        {
          "output_type": "stream",
          "name": "stderr",
          "text": [
            "      28/50      1.94G      1.071     0.8946       1.31         10        512: 100%|██████████| 67/67 [00:13<00:00,  5.04it/s]\n",
            "                 Class     Images  Instances      Box(P          R      mAP50  mAP50-95): 100%|██████████| 9/9 [00:01<00:00,  6.85it/s]"
          ]
        },
        {
          "output_type": "stream",
          "name": "stdout",
          "text": [
            "                   all        266        266      0.755      0.835      0.835      0.614\n"
          ]
        },
        {
          "output_type": "stream",
          "name": "stderr",
          "text": [
            "\n"
          ]
        },
        {
          "output_type": "stream",
          "name": "stdout",
          "text": [
            "\n",
            "      Epoch    GPU_mem   box_loss   cls_loss   dfl_loss  Instances       Size\n"
          ]
        },
        {
          "output_type": "stream",
          "name": "stderr",
          "text": [
            "      29/50      1.95G      1.062     0.8731      1.322          8        512: 100%|██████████| 67/67 [00:13<00:00,  5.08it/s]\n",
            "                 Class     Images  Instances      Box(P          R      mAP50  mAP50-95): 100%|██████████| 9/9 [00:01<00:00,  6.79it/s]"
          ]
        },
        {
          "output_type": "stream",
          "name": "stdout",
          "text": [
            "                   all        266        266      0.888      0.952      0.963      0.704\n"
          ]
        },
        {
          "output_type": "stream",
          "name": "stderr",
          "text": [
            "\n"
          ]
        },
        {
          "output_type": "stream",
          "name": "stdout",
          "text": [
            "\n",
            "      Epoch    GPU_mem   box_loss   cls_loss   dfl_loss  Instances       Size\n"
          ]
        },
        {
          "output_type": "stream",
          "name": "stderr",
          "text": [
            "      30/50      1.97G      1.066     0.8839      1.312         10        512: 100%|██████████| 67/67 [00:13<00:00,  5.01it/s]\n",
            "                 Class     Images  Instances      Box(P          R      mAP50  mAP50-95): 100%|██████████| 9/9 [00:01<00:00,  6.70it/s]"
          ]
        },
        {
          "output_type": "stream",
          "name": "stdout",
          "text": [
            "                   all        266        266      0.929      0.955      0.961      0.723\n"
          ]
        },
        {
          "output_type": "stream",
          "name": "stderr",
          "text": [
            "\n"
          ]
        },
        {
          "output_type": "stream",
          "name": "stdout",
          "text": [
            "\n",
            "      Epoch    GPU_mem   box_loss   cls_loss   dfl_loss  Instances       Size\n"
          ]
        },
        {
          "output_type": "stream",
          "name": "stderr",
          "text": [
            "      31/50      1.99G      1.034     0.8501      1.296          5        512: 100%|██████████| 67/67 [00:13<00:00,  5.06it/s]\n",
            "                 Class     Images  Instances      Box(P          R      mAP50  mAP50-95): 100%|██████████| 9/9 [00:01<00:00,  6.84it/s]"
          ]
        },
        {
          "output_type": "stream",
          "name": "stdout",
          "text": [
            "                   all        266        266      0.923       0.91      0.963      0.721\n"
          ]
        },
        {
          "output_type": "stream",
          "name": "stderr",
          "text": [
            "\n"
          ]
        },
        {
          "output_type": "stream",
          "name": "stdout",
          "text": [
            "\n",
            "      Epoch    GPU_mem   box_loss   cls_loss   dfl_loss  Instances       Size\n"
          ]
        },
        {
          "output_type": "stream",
          "name": "stderr",
          "text": [
            "      32/50      2.01G      1.013     0.8486      1.289          9        512: 100%|██████████| 67/67 [00:13<00:00,  5.04it/s]\n",
            "                 Class     Images  Instances      Box(P          R      mAP50  mAP50-95): 100%|██████████| 9/9 [00:01<00:00,  6.69it/s]"
          ]
        },
        {
          "output_type": "stream",
          "name": "stdout",
          "text": [
            "                   all        266        266      0.956      0.932      0.971      0.727\n"
          ]
        },
        {
          "output_type": "stream",
          "name": "stderr",
          "text": [
            "\n"
          ]
        },
        {
          "output_type": "stream",
          "name": "stdout",
          "text": [
            "\n",
            "      Epoch    GPU_mem   box_loss   cls_loss   dfl_loss  Instances       Size\n"
          ]
        },
        {
          "output_type": "stream",
          "name": "stderr",
          "text": [
            "      33/50      2.02G      1.027     0.8619      1.291         11        512: 100%|██████████| 67/67 [00:13<00:00,  4.90it/s]\n",
            "                 Class     Images  Instances      Box(P          R      mAP50  mAP50-95): 100%|██████████| 9/9 [00:01<00:00,  6.39it/s]"
          ]
        },
        {
          "output_type": "stream",
          "name": "stdout",
          "text": [
            "                   all        266        266      0.909      0.935      0.956       0.73\n"
          ]
        },
        {
          "output_type": "stream",
          "name": "stderr",
          "text": [
            "\n"
          ]
        },
        {
          "output_type": "stream",
          "name": "stdout",
          "text": [
            "\n",
            "      Epoch    GPU_mem   box_loss   cls_loss   dfl_loss  Instances       Size\n"
          ]
        },
        {
          "output_type": "stream",
          "name": "stderr",
          "text": [
            "      34/50      2.04G     0.9901     0.8163      1.259          3        512: 100%|██████████| 67/67 [00:13<00:00,  5.00it/s]\n",
            "                 Class     Images  Instances      Box(P          R      mAP50  mAP50-95): 100%|██████████| 9/9 [00:01<00:00,  7.05it/s]"
          ]
        },
        {
          "output_type": "stream",
          "name": "stdout",
          "text": [
            "                   all        266        266      0.911      0.923      0.956      0.724\n"
          ]
        },
        {
          "output_type": "stream",
          "name": "stderr",
          "text": [
            "\n"
          ]
        },
        {
          "output_type": "stream",
          "name": "stdout",
          "text": [
            "\n",
            "      Epoch    GPU_mem   box_loss   cls_loss   dfl_loss  Instances       Size\n"
          ]
        },
        {
          "output_type": "stream",
          "name": "stderr",
          "text": [
            "      35/50      2.06G     0.9943     0.8389      1.265          6        512: 100%|██████████| 67/67 [00:13<00:00,  5.12it/s]\n",
            "                 Class     Images  Instances      Box(P          R      mAP50  mAP50-95): 100%|██████████| 9/9 [00:01<00:00,  6.64it/s]"
          ]
        },
        {
          "output_type": "stream",
          "name": "stdout",
          "text": [
            "                   all        266        266      0.924      0.936      0.964      0.737\n"
          ]
        },
        {
          "output_type": "stream",
          "name": "stderr",
          "text": [
            "\n"
          ]
        },
        {
          "output_type": "stream",
          "name": "stdout",
          "text": [
            "\n",
            "      Epoch    GPU_mem   box_loss   cls_loss   dfl_loss  Instances       Size\n"
          ]
        },
        {
          "output_type": "stream",
          "name": "stderr",
          "text": [
            "      36/50      2.08G     0.9845     0.8201      1.263          9        512: 100%|██████████| 67/67 [00:13<00:00,  5.08it/s]\n",
            "                 Class     Images  Instances      Box(P          R      mAP50  mAP50-95): 100%|██████████| 9/9 [00:01<00:00,  6.71it/s]"
          ]
        },
        {
          "output_type": "stream",
          "name": "stdout",
          "text": [
            "                   all        266        266      0.927      0.906      0.957      0.736\n"
          ]
        },
        {
          "output_type": "stream",
          "name": "stderr",
          "text": [
            "\n"
          ]
        },
        {
          "output_type": "stream",
          "name": "stdout",
          "text": [
            "\n",
            "      Epoch    GPU_mem   box_loss   cls_loss   dfl_loss  Instances       Size\n"
          ]
        },
        {
          "output_type": "stream",
          "name": "stderr",
          "text": [
            "      37/50      2.08G     0.9572     0.7855       1.24          5        512: 100%|██████████| 67/67 [00:12<00:00,  5.15it/s]\n",
            "                 Class     Images  Instances      Box(P          R      mAP50  mAP50-95): 100%|██████████| 9/9 [00:01<00:00,  6.55it/s]"
          ]
        },
        {
          "output_type": "stream",
          "name": "stdout",
          "text": [
            "                   all        266        266      0.888      0.898      0.937      0.709\n"
          ]
        },
        {
          "output_type": "stream",
          "name": "stderr",
          "text": [
            "\n"
          ]
        },
        {
          "output_type": "stream",
          "name": "stdout",
          "text": [
            "\n",
            "      Epoch    GPU_mem   box_loss   cls_loss   dfl_loss  Instances       Size\n"
          ]
        },
        {
          "output_type": "stream",
          "name": "stderr",
          "text": [
            "      38/50      2.11G     0.9596     0.8042      1.243          7        512: 100%|██████████| 67/67 [00:13<00:00,  5.10it/s]\n",
            "                 Class     Images  Instances      Box(P          R      mAP50  mAP50-95): 100%|██████████| 9/9 [00:01<00:00,  6.74it/s]"
          ]
        },
        {
          "output_type": "stream",
          "name": "stdout",
          "text": [
            "                   all        266        266      0.899      0.929      0.934      0.707\n"
          ]
        },
        {
          "output_type": "stream",
          "name": "stderr",
          "text": [
            "\n"
          ]
        },
        {
          "output_type": "stream",
          "name": "stdout",
          "text": [
            "\n",
            "      Epoch    GPU_mem   box_loss   cls_loss   dfl_loss  Instances       Size\n"
          ]
        },
        {
          "output_type": "stream",
          "name": "stderr",
          "text": [
            "      39/50      2.13G     0.9299     0.7801      1.239          8        512: 100%|██████████| 67/67 [00:13<00:00,  5.09it/s]\n",
            "                 Class     Images  Instances      Box(P          R      mAP50  mAP50-95): 100%|██████████| 9/9 [00:01<00:00,  6.80it/s]"
          ]
        },
        {
          "output_type": "stream",
          "name": "stdout",
          "text": [
            "                   all        266        266      0.933      0.936      0.956      0.736\n"
          ]
        },
        {
          "output_type": "stream",
          "name": "stderr",
          "text": [
            "\n"
          ]
        },
        {
          "output_type": "stream",
          "name": "stdout",
          "text": [
            "\n",
            "      Epoch    GPU_mem   box_loss   cls_loss   dfl_loss  Instances       Size\n"
          ]
        },
        {
          "output_type": "stream",
          "name": "stderr",
          "text": [
            "      40/50      2.14G     0.9402     0.7674      1.247          9        512: 100%|██████████| 67/67 [00:12<00:00,  5.19it/s]\n",
            "                 Class     Images  Instances      Box(P          R      mAP50  mAP50-95): 100%|██████████| 9/9 [00:01<00:00,  6.01it/s]"
          ]
        },
        {
          "output_type": "stream",
          "name": "stdout",
          "text": [
            "                   all        266        266      0.908      0.923       0.96      0.733\n"
          ]
        },
        {
          "output_type": "stream",
          "name": "stderr",
          "text": [
            "\n"
          ]
        },
        {
          "output_type": "stream",
          "name": "stdout",
          "text": [
            "Closing dataloader mosaic\n",
            "\u001b[34m\u001b[1malbumentations: \u001b[0mBlur(p=0.01, blur_limit=(3, 7)), MedianBlur(p=0.01, blur_limit=(3, 7)), ToGray(p=0.01, method='weighted_average', num_output_channels=3), CLAHE(p=0.01, clip_limit=(1.0, 4.0), tile_grid_size=(8, 8))\n",
            "\n",
            "      Epoch    GPU_mem   box_loss   cls_loss   dfl_loss  Instances       Size\n"
          ]
        },
        {
          "output_type": "stream",
          "name": "stderr",
          "text": [
            "      41/50      2.15G     0.7256     0.4642      1.094          4        512: 100%|██████████| 67/67 [00:13<00:00,  4.88it/s]\n",
            "                 Class     Images  Instances      Box(P          R      mAP50  mAP50-95): 100%|██████████| 9/9 [00:02<00:00,  4.13it/s]"
          ]
        },
        {
          "output_type": "stream",
          "name": "stdout",
          "text": [
            "                   all        266        266      0.954      0.917      0.962      0.754\n"
          ]
        },
        {
          "output_type": "stream",
          "name": "stderr",
          "text": [
            "\n"
          ]
        },
        {
          "output_type": "stream",
          "name": "stdout",
          "text": [
            "\n",
            "      Epoch    GPU_mem   box_loss   cls_loss   dfl_loss  Instances       Size\n"
          ]
        },
        {
          "output_type": "stream",
          "name": "stderr",
          "text": [
            "      42/50      2.18G     0.6845     0.4299      1.072          4        512: 100%|██████████| 67/67 [00:11<00:00,  5.65it/s]\n",
            "                 Class     Images  Instances      Box(P          R      mAP50  mAP50-95): 100%|██████████| 9/9 [00:02<00:00,  4.04it/s]"
          ]
        },
        {
          "output_type": "stream",
          "name": "stdout",
          "text": [
            "                   all        266        266      0.947      0.944      0.971       0.75\n"
          ]
        },
        {
          "output_type": "stream",
          "name": "stderr",
          "text": [
            "\n"
          ]
        },
        {
          "output_type": "stream",
          "name": "stdout",
          "text": [
            "\n",
            "      Epoch    GPU_mem   box_loss   cls_loss   dfl_loss  Instances       Size\n"
          ]
        },
        {
          "output_type": "stream",
          "name": "stderr",
          "text": [
            "      43/50      2.19G      0.681     0.4174      1.072          4        512: 100%|██████████| 67/67 [00:11<00:00,  5.62it/s]\n",
            "                 Class     Images  Instances      Box(P          R      mAP50  mAP50-95): 100%|██████████| 9/9 [00:02<00:00,  4.37it/s]"
          ]
        },
        {
          "output_type": "stream",
          "name": "stdout",
          "text": [
            "                   all        266        266      0.974       0.94      0.975       0.77\n"
          ]
        },
        {
          "output_type": "stream",
          "name": "stderr",
          "text": [
            "\n"
          ]
        },
        {
          "output_type": "stream",
          "name": "stdout",
          "text": [
            "\n",
            "      Epoch    GPU_mem   box_loss   cls_loss   dfl_loss  Instances       Size\n"
          ]
        },
        {
          "output_type": "stream",
          "name": "stderr",
          "text": [
            "      44/50      2.21G     0.6656     0.4152      1.066          4        512: 100%|██████████| 67/67 [00:12<00:00,  5.57it/s]\n",
            "                 Class     Images  Instances      Box(P          R      mAP50  mAP50-95): 100%|██████████| 9/9 [00:02<00:00,  4.34it/s]"
          ]
        },
        {
          "output_type": "stream",
          "name": "stdout",
          "text": [
            "                   all        266        266      0.943      0.937      0.963      0.759\n"
          ]
        },
        {
          "output_type": "stream",
          "name": "stderr",
          "text": [
            "\n"
          ]
        },
        {
          "output_type": "stream",
          "name": "stdout",
          "text": [
            "\n",
            "      Epoch    GPU_mem   box_loss   cls_loss   dfl_loss  Instances       Size\n"
          ]
        },
        {
          "output_type": "stream",
          "name": "stderr",
          "text": [
            "      45/50      2.22G     0.6587     0.3956      1.055          4        512: 100%|██████████| 67/67 [00:12<00:00,  5.36it/s]\n",
            "                 Class     Images  Instances      Box(P          R      mAP50  mAP50-95): 100%|██████████| 9/9 [00:01<00:00,  5.29it/s]"
          ]
        },
        {
          "output_type": "stream",
          "name": "stdout",
          "text": [
            "                   all        266        266      0.933       0.95      0.959      0.749\n"
          ]
        },
        {
          "output_type": "stream",
          "name": "stderr",
          "text": [
            "\n"
          ]
        },
        {
          "output_type": "stream",
          "name": "stdout",
          "text": [
            "\n",
            "      Epoch    GPU_mem   box_loss   cls_loss   dfl_loss  Instances       Size\n"
          ]
        },
        {
          "output_type": "stream",
          "name": "stderr",
          "text": [
            "      46/50      2.24G     0.6579     0.3883      1.052          4        512: 100%|██████████| 67/67 [00:12<00:00,  5.23it/s]\n",
            "                 Class     Images  Instances      Box(P          R      mAP50  mAP50-95): 100%|██████████| 9/9 [00:01<00:00,  6.39it/s]"
          ]
        },
        {
          "output_type": "stream",
          "name": "stdout",
          "text": [
            "                   all        266        266      0.932      0.934      0.968      0.752\n"
          ]
        },
        {
          "output_type": "stream",
          "name": "stderr",
          "text": [
            "\n"
          ]
        },
        {
          "output_type": "stream",
          "name": "stdout",
          "text": [
            "\n",
            "      Epoch    GPU_mem   box_loss   cls_loss   dfl_loss  Instances       Size\n"
          ]
        },
        {
          "output_type": "stream",
          "name": "stderr",
          "text": [
            "      47/50      2.26G      0.627     0.3802      1.038          4        512: 100%|██████████| 67/67 [00:12<00:00,  5.31it/s]\n",
            "                 Class     Images  Instances      Box(P          R      mAP50  mAP50-95): 100%|██████████| 9/9 [00:01<00:00,  6.30it/s]"
          ]
        },
        {
          "output_type": "stream",
          "name": "stdout",
          "text": [
            "                   all        266        266       0.94      0.941      0.965      0.754\n"
          ]
        },
        {
          "output_type": "stream",
          "name": "stderr",
          "text": [
            "\n"
          ]
        },
        {
          "output_type": "stream",
          "name": "stdout",
          "text": [
            "\n",
            "      Epoch    GPU_mem   box_loss   cls_loss   dfl_loss  Instances       Size\n"
          ]
        },
        {
          "output_type": "stream",
          "name": "stderr",
          "text": [
            "      48/50      2.28G     0.5945     0.3638      1.028          4        512: 100%|██████████| 67/67 [00:12<00:00,  5.23it/s]\n",
            "                 Class     Images  Instances      Box(P          R      mAP50  mAP50-95): 100%|██████████| 9/9 [00:01<00:00,  6.70it/s]"
          ]
        },
        {
          "output_type": "stream",
          "name": "stdout",
          "text": [
            "                   all        266        266       0.94      0.932      0.964      0.764\n"
          ]
        },
        {
          "output_type": "stream",
          "name": "stderr",
          "text": [
            "\n"
          ]
        },
        {
          "output_type": "stream",
          "name": "stdout",
          "text": [
            "\n",
            "      Epoch    GPU_mem   box_loss   cls_loss   dfl_loss  Instances       Size\n"
          ]
        },
        {
          "output_type": "stream",
          "name": "stderr",
          "text": [
            "      49/50      2.29G     0.6023      0.364      1.016          4        512: 100%|██████████| 67/67 [00:12<00:00,  5.26it/s]\n",
            "                 Class     Images  Instances      Box(P          R      mAP50  mAP50-95): 100%|██████████| 9/9 [00:01<00:00,  6.43it/s]"
          ]
        },
        {
          "output_type": "stream",
          "name": "stdout",
          "text": [
            "                   all        266        266      0.935      0.951      0.973      0.764\n"
          ]
        },
        {
          "output_type": "stream",
          "name": "stderr",
          "text": [
            "\n"
          ]
        },
        {
          "output_type": "stream",
          "name": "stdout",
          "text": [
            "\n",
            "      Epoch    GPU_mem   box_loss   cls_loss   dfl_loss  Instances       Size\n"
          ]
        },
        {
          "output_type": "stream",
          "name": "stderr",
          "text": [
            "      50/50      2.31G     0.5866     0.3672     0.9976          4        512: 100%|██████████| 67/67 [00:12<00:00,  5.23it/s]\n",
            "                 Class     Images  Instances      Box(P          R      mAP50  mAP50-95): 100%|██████████| 9/9 [00:01<00:00,  6.70it/s]"
          ]
        },
        {
          "output_type": "stream",
          "name": "stdout",
          "text": [
            "                   all        266        266      0.934       0.95      0.964      0.756\n"
          ]
        },
        {
          "output_type": "stream",
          "name": "stderr",
          "text": [
            "\n"
          ]
        },
        {
          "output_type": "stream",
          "name": "stdout",
          "text": [
            "\n",
            "50 epochs completed in 0.209 hours.\n",
            "Optimizer stripped from turtle_detection/yolov8n_custom_turtle_face/weights/last.pt, 6.2MB\n",
            "Optimizer stripped from turtle_detection/yolov8n_custom_turtle_face/weights/best.pt, 6.2MB\n",
            "\n",
            "Validating turtle_detection/yolov8n_custom_turtle_face/weights/best.pt...\n",
            "Ultralytics 8.3.169 🚀 Python-3.11.13 torch-2.6.0+cu124 CUDA:0 (Tesla T4, 15095MiB)\n",
            "Model summary (fused): 72 layers, 3,005,843 parameters, 0 gradients, 8.1 GFLOPs\n"
          ]
        },
        {
          "output_type": "stream",
          "name": "stderr",
          "text": [
            "                 Class     Images  Instances      Box(P          R      mAP50  mAP50-95): 100%|██████████| 9/9 [00:02<00:00,  3.68it/s]\n"
          ]
        },
        {
          "output_type": "stream",
          "name": "stdout",
          "text": [
            "                   all        266        266      0.974       0.94      0.975      0.769\n",
            "Speed: 0.2ms preprocess, 1.8ms inference, 0.0ms loss, 2.8ms postprocess per image\n",
            "Results saved to \u001b[1mturtle_detection/yolov8n_custom_turtle_face\u001b[0m\n",
            "Training complete.\n"
          ]
        }
      ]
    },
    {
      "cell_type": "code",
      "source": [
        "# Display the contents of the run directory to see your results\n",
        "print(\"\\nContents of the training run directory:\")\n",
        "!ls -l /content/runs/detect/turtle_detection/yolov8n_custom_turtle_face"
      ],
      "metadata": {
        "colab": {
          "base_uri": "https://localhost:8080/"
        },
        "id": "TdhYfl2L4RTE",
        "outputId": "8b877f8c-22c8-4918-95ec-ae53c570a488"
      },
      "execution_count": 14,
      "outputs": [
        {
          "output_type": "stream",
          "name": "stdout",
          "text": [
            "\n",
            "Contents of the training run directory:\n",
            "ls: cannot access '/content/runs/detect/turtle_detection/yolov8n_custom_turtle_face': No such file or directory\n"
          ]
        }
      ]
    },
    {
      "cell_type": "code",
      "source": [
        "# Display the contents of the run directory to see your results\n",
        "# The 'name' argument was 'yolov8n_custom_turtle_face'\n",
        "# The 'project' argument was 'turtle_detection'\n",
        "# So the full path should be /content/runs/detect/turtle_detection/yolov8n_custom_turtle_face\n",
        "\n",
        "TRAINING_RUN_DIR = '/content/runs/detect/turtle_detection/yolov8n_custom_turtle_face'\n",
        "\n",
        "print(f\"\\nAttempting to list contents of: {TRAINING_RUN_DIR}\")\n",
        "!ls -l {TRAINING_RUN_DIR}"
      ],
      "metadata": {
        "colab": {
          "base_uri": "https://localhost:8080/"
        },
        "id": "4dy6APo62SDV",
        "outputId": "d892982b-2984-472a-ad12-3aaf048681a0"
      },
      "execution_count": 15,
      "outputs": [
        {
          "output_type": "stream",
          "name": "stdout",
          "text": [
            "\n",
            "Attempting to list contents of: /content/runs/detect/turtle_detection/yolov8n_custom_turtle_face\n",
            "ls: cannot access '/content/runs/detect/turtle_detection/yolov8n_custom_turtle_face': No such file or directory\n"
          ]
        }
      ]
    },
    {
      "cell_type": "code",
      "source": [
        "print(\"\\nListing contents of /content/runs/detect/turtle_detection/ to find the exact run folder:\")\n",
        "!ls -l /content/runs/detect/turtle_detection/"
      ],
      "metadata": {
        "colab": {
          "base_uri": "https://localhost:8080/"
        },
        "id": "_Ls4NOJD5Fhu",
        "outputId": "400452e7-6e4a-4595-aac1-c7d55c0faca8"
      },
      "execution_count": 16,
      "outputs": [
        {
          "output_type": "stream",
          "name": "stdout",
          "text": [
            "\n",
            "Listing contents of /content/runs/detect/turtle_detection/ to find the exact run folder:\n",
            "ls: cannot access '/content/runs/detect/turtle_detection/': No such file or directory\n"
          ]
        }
      ]
    },
    {
      "cell_type": "code",
      "source": [
        "import os\n",
        "import glob\n",
        "\n",
        "# Define the base directory where YOLOv8 saves its runs\n",
        "RUNS_DETECT_BASE = '/content/runs/detect'\n",
        "TRAINED_MODEL_PATH = None\n",
        "\n",
        "# Search for the best.pt file within the project/name structure we used\n",
        "# This will look for any folder matching 'turtle_detection/yolov8n_custom_turtle_face*'\n",
        "# to account for possible appending numbers (e.g., yolov8n_custom_turtle_face2)\n",
        "search_pattern = os.path.join(RUNS_DETECT_BASE, 'turtle_detection', 'yolov8n_custom_turtle_face*', 'weights', 'best.pt')\n",
        "\n",
        "print(f\"Searching for trained model at pattern: {search_pattern}\")\n",
        "\n",
        "# glob.glob returns a list of all files matching the pattern\n",
        "found_models = glob.glob(search_pattern)\n",
        "\n",
        "if found_models:\n",
        "    # Assuming there's only one 'best.pt' for your run, pick the first one\n",
        "    TRAINED_MODEL_PATH = found_models[0]\n",
        "    print(f\"Found trained model at: {TRAINED_MODEL_PATH}\")\n",
        "else:\n",
        "    print(f\"Error: No 'best.pt' found matching the pattern {search_pattern}.\")\n",
        "    print(\"Please manually check the '/content/runs/detect/turtle_detection/' directory structure.\")\n",
        "\n",
        "# Set the GOOGLE_DRIVE_DATA_FOLDER again, just to be sure\n",
        "# GOOGLE_DRIVE_DATA_FOLDER should be defined from your very first setup cell\n",
        "# For example:\n",
        "GOOGLE_DRIVE_DATA_FOLDER = '/content/drive/MyDrive/SeaTurtleDetectionData' # <--- Confirm this is correct!\n",
        "\n",
        "DEST_WEIGHTS_PATH = os.path.join(GOOGLE_DRIVE_DATA_FOLDER, 'yolov8n_turtle_face_best.pt')\n",
        "\n",
        "# Now, copy the found model to Google Drive\n",
        "if TRAINED_MODEL_PATH and os.path.exists(TRAINED_MODEL_PATH):\n",
        "    print(f\"\\nCopying trained weights from {TRAINED_MODEL_PATH} to {DEST_WEIGHTS_PATH}...\")\n",
        "    try:\n",
        "        shutil.copy(TRAINED_MODEL_PATH, DEST_WEIGHTS_PATH)\n",
        "        print(\"Trained weights copied to Google Drive successfully!\")\n",
        "    except Exception as e:\n",
        "        print(f\"Error copying weights: {e}\")\n",
        "else:\n",
        "    print(\"\\nSkipping copy to Google Drive as no model was found or path is invalid.\")"
      ],
      "metadata": {
        "colab": {
          "base_uri": "https://localhost:8080/"
        },
        "id": "CYRtkRzx5xZI",
        "outputId": "0ca36bb7-a51d-4aa3-b9d8-bd9b7991abfa"
      },
      "execution_count": 17,
      "outputs": [
        {
          "output_type": "stream",
          "name": "stdout",
          "text": [
            "Searching for trained model at pattern: /content/runs/detect/turtle_detection/yolov8n_custom_turtle_face*/weights/best.pt\n",
            "Error: No 'best.pt' found matching the pattern /content/runs/detect/turtle_detection/yolov8n_custom_turtle_face*/weights/best.pt.\n",
            "Please manually check the '/content/runs/detect/turtle_detection/' directory structure.\n",
            "\n",
            "Skipping copy to Google Drive as no model was found or path is invalid.\n"
          ]
        }
      ]
    },
    {
      "cell_type": "code",
      "source": [
        "import os\n",
        "import glob\n",
        "import shutil\n",
        "\n",
        "TRAINED_MODEL_PATH = None\n",
        "DEST_WEIGHTS_PATH = None\n",
        "\n",
        "# Define the base directory for YOLOv8 runs\n",
        "RUNS_BASE = '/content/runs/'\n",
        "\n",
        "print(f\"Searching for 'best.pt' file recursively within: {RUNS_BASE}\")\n",
        "\n",
        "# Use glob.glob with recursive=True to find all 'best.pt' files\n",
        "# The ** matches any directories/subdirectories\n",
        "found_models = glob.glob(os.path.join(RUNS_BASE, '**', 'best.pt'), recursive=True)\n",
        "\n",
        "if found_models:\n",
        "    # Print all found paths and let the user confirm\n",
        "    print(\"\\nFound the following 'best.pt' files:\")\n",
        "    for i, path in enumerate(found_models):\n",
        "        print(f\"{i+1}. {path}\")\n",
        "\n",
        "    # For now, let's assume the most recently created or the first one is yours\n",
        "    # If there are multiple, you might need to manually pick the correct one from the output above\n",
        "    TRAINED_MODEL_PATH = found_models[0] # Taking the first one as a default\n",
        "    print(f\"\\nUsing the first found model: {TRAINED_MODEL_PATH}\")\n",
        "\n",
        "else:\n",
        "    print(f\"Error: No 'best.pt' file found anywhere under {RUNS_BASE}.\")\n",
        "    print(\"This is unexpected if training completed successfully. Please double-check your Colab session.\")\n",
        "\n",
        "# Set the GOOGLE_DRIVE_DATA_FOLDER again, just to be sure\n",
        "# GOOGLE_DRIVE_DATA_FOLDER should be defined from your very first setup cell\n",
        "# For example:\n",
        "GOOGLE_DRIVE_DATA_FOLDER = '/content/drive/MyDrive/SeaTurtleDetectionData' # <--- Confirm this is correct!\n",
        "\n",
        "if TRAINED_MODEL_PATH:\n",
        "    DEST_WEIGHTS_PATH = os.path.join(GOOGLE_DRIVE_DATA_FOLDER, 'yolov8n_turtle_face_best.pt')\n",
        "\n",
        "    # Now, copy the found model to Google Drive\n",
        "    if os.path.exists(TRAINED_MODEL_PATH):\n",
        "        print(f\"\\nCopying trained weights from {TRAINED_MODEL_PATH} to {DEST_WEIGHTS_PATH}...\")\n",
        "        try:\n",
        "            shutil.copy(TRAINED_MODEL_PATH, DEST_WEIGHTS_PATH)\n",
        "            print(\"Trained weights copied to Google Drive successfully!\")\n",
        "        except Exception as e:\n",
        "            print(f\"Error copying weights: {e}\")\n",
        "    else:\n",
        "        print(\"\\nSkipping copy to Google Drive as the resolved model path does not exist.\")\n",
        "else:\n",
        "    print(\"\\nSkipping copy to Google Drive as no 'best.pt' model was found.\")"
      ],
      "metadata": {
        "colab": {
          "base_uri": "https://localhost:8080/"
        },
        "id": "2TeMrGE76KNy",
        "outputId": "e48347f3-719e-4718-c2f6-66d7eb3d5992"
      },
      "execution_count": 18,
      "outputs": [
        {
          "output_type": "stream",
          "name": "stdout",
          "text": [
            "Searching for 'best.pt' file recursively within: /content/runs/\n",
            "Error: No 'best.pt' file found anywhere under /content/runs/.\n",
            "This is unexpected if training completed successfully. Please double-check your Colab session.\n",
            "\n",
            "Skipping copy to Google Drive as no 'best.pt' model was found.\n"
          ]
        }
      ]
    },
    {
      "cell_type": "code",
      "source": [
        "print(\"Listing contents of /content/:\")\n",
        "!ls -l /content/"
      ],
      "metadata": {
        "colab": {
          "base_uri": "https://localhost:8080/"
        },
        "id": "D7v6X_em68ni",
        "outputId": "e6112551-f190-4c54-da63-7b4e629bdfa0"
      },
      "execution_count": 19,
      "outputs": [
        {
          "output_type": "stream",
          "name": "stdout",
          "text": [
            "Listing contents of /content/:\n",
            "total 11900\n",
            "drwx------ 5 root root    4096 Jul 22 15:59 drive\n",
            "drwxr-xr-x 1 root root    4096 Jul 18 13:38 sample_data\n",
            "drwxr-xr-x 3 root root    4096 Jul 22 16:24 turtle_detection\n",
            "drwxr-xr-x 4 root root    4096 Jul 22 16:24 turtle_face_detection_dataset\n",
            "-rw-r--r-- 1 root root 5613764 Jul 22 16:24 yolo11n.pt\n",
            "-rw-r--r-- 1 root root 6549796 Jul 22 16:24 yolov8n.pt\n"
          ]
        }
      ]
    },
    {
      "cell_type": "code",
      "source": [
        "import os\n",
        "import shutil\n",
        "\n",
        "# --- CORRECTED SOURCE PATH ---\n",
        "SOURCE_WEIGHTS_PATH = '/content/turtle_detection/yolov8n_custom_turtle_face/weights/best.pt'\n",
        "# -----------------------------\n",
        "\n",
        "# Ensure GOOGLE_DRIVE_DATA_FOLDER is correctly defined from earlier cells\n",
        "# For example:\n",
        "GOOGLE_DRIVE_DATA_FOLDER = '/content/drive/MyDrive/SeaTurtleDetectionData' # <--- Confirm this is correct!\n",
        "\n",
        "DEST_WEIGHTS_PATH = os.path.join(GOOGLE_DRIVE_DATA_FOLDER, 'yolov8n_turtle_face_best.pt')\n",
        "\n",
        "print(f\"\\nAttempting to copy trained weights from {SOURCE_WEIGHTS_PATH} to {DEST_WEIGHTS_PATH}...\")\n",
        "\n",
        "try:\n",
        "    shutil.copy(SOURCE_WEIGHTS_PATH, DEST_WEIGHTS_PATH)\n",
        "    print(\"Trained weights copied to Google Drive successfully!\")\n",
        "except FileNotFoundError:\n",
        "    print(f\"Error: Could not find the source weights file at {SOURCE_WEIGHTS_PATH}.\")\n",
        "    print(\"Please double-check the path in the Colab file browser. It seems different from the image.\")\n",
        "except Exception as e:\n",
        "    print(f\"An unexpected error occurred during copy: {e}\")"
      ],
      "metadata": {
        "colab": {
          "base_uri": "https://localhost:8080/"
        },
        "id": "3TucwHTDEgSz",
        "outputId": "0ee42706-165b-428b-e80a-b76f978a8de2"
      },
      "execution_count": 20,
      "outputs": [
        {
          "output_type": "stream",
          "name": "stdout",
          "text": [
            "\n",
            "Attempting to copy trained weights from /content/turtle_detection/yolov8n_custom_turtle_face/weights/best.pt to /content/drive/MyDrive/SeaTurtleDetectionData/yolov8n_turtle_face_best.pt...\n",
            "Trained weights copied to Google Drive successfully!\n"
          ]
        }
      ]
    },
    {
      "cell_type": "code",
      "source": [
        "# Load the best trained model\n",
        "from ultralytics import YOLO\n",
        "import os\n",
        "from IPython.display import Image, display # For displaying images\n",
        "\n",
        "# Ensure BASE_DATA_DIR and VAL_IMG_DIR are defined from your earlier setup cells\n",
        "# If you've restarted, you might need to re-run the initial setup cells (excluding unzipping and training)\n",
        "# Example:\n",
        "# BASE_DATA_DIR = '/content/turtle_face_detection_dataset'\n",
        "# VAL_IMG_DIR = os.path.join(BASE_DATA_DIR, 'images', 'val')\n",
        "\n",
        "\n",
        "# --- IMPORTANT ---\n",
        "# Load from the Google Drive copy for persistence and reliability\n",
        "# DEST_WEIGHTS_PATH should be defined from the previous cell after successful copy\n",
        "MODEL_PATH_FOR_INFERENCE = DEST_WEIGHTS_PATH\n",
        "print(f\"Loading model from Google Drive: {MODEL_PATH_FOR_INFERENCE}\")\n",
        "\n",
        "if os.path.exists(MODEL_PATH_FOR_INFERENCE):\n",
        "    model = YOLO(MODEL_PATH_FOR_INFERENCE)\n",
        "    print(\"Trained model loaded.\")\n",
        "\n",
        "    # Define a directory for inference results on Colab's local file system\n",
        "    INFERENCE_RESULTS_DIR = '/content/inference_results'\n",
        "    os.makedirs(INFERENCE_RESULTS_DIR, exist_ok=True)\n",
        "\n",
        "    # Example: Run inference on a batch of images\n",
        "    # Using the first few validation images as test images for demonstration\n",
        "    SAMPLE_IMAGES_FOR_INFERENCE = [\n",
        "        os.path.join(VAL_IMG_DIR, '00309D7D.JPG'),\n",
        "        os.path.join(VAL_IMG_DIR, '01BCAD69.JPG')\n",
        "    ]\n",
        "\n",
        "    print(f\"\\nRunning inference on sample images: {SAMPLE_IMAGES_FOR_INFERENCE}\")\n",
        "    results = model.predict(\n",
        "        source=SAMPLE_IMAGES_FOR_INFERENCE,\n",
        "        save=True,                          # Save predicted images with bounding boxes\n",
        "        conf=0.25,                          # Confidence threshold (adjust as needed)\n",
        "        iou=0.7,                            # IoU threshold for NMS\n",
        "        project=INFERENCE_RESULTS_DIR,      # Save results to this directory\n",
        "        name='sample_inference_run',\n",
        "        exist_ok=True\n",
        "    )\n",
        "\n",
        "    print(\"\\nInference complete. Check the results in the following directory:\")\n",
        "    final_inference_output_path = os.path.join(INFERENCE_RESULTS_DIR, 'sample_inference_run')\n",
        "    print(final_inference_output_path)\n",
        "    # List files in the inference output directory\n",
        "    !ls -l {final_inference_output_path}\n",
        "\n",
        "    # Display a predicted image\n",
        "    predicted_image_display_path = os.path.join(final_inference_output_path, '00309D7D.JPG')\n",
        "\n",
        "    if os.path.exists(predicted_image_display_path):\n",
        "        print(f\"\\nDisplaying a sample predicted image ({predicted_image_display_path}):\")\n",
        "        display(Image(filename=predicted_image_display_path, width=600))\n",
        "    else:\n",
        "        print(f\"\\nCould not find predicted image at {predicted_image_display_path}.\")\n",
        "        print(\"Please check the exact output directory structure for saved inference results.\")\n",
        "\n",
        "else:\n",
        "    print(\"Cannot run inference: Model path not found.\")"
      ],
      "metadata": {
        "colab": {
          "base_uri": "https://localhost:8080/"
        },
        "id": "88hH-QRyEuw2",
        "outputId": "b8ecff2c-4fc5-4cec-88fd-c034ffc4a047"
      },
      "execution_count": 21,
      "outputs": [
        {
          "output_type": "stream",
          "name": "stdout",
          "text": [
            "Loading model from Google Drive: /content/drive/MyDrive/SeaTurtleDetectionData/yolov8n_turtle_face_best.pt\n",
            "Trained model loaded.\n",
            "\n",
            "Running inference on sample images: ['/content/turtle_face_detection_dataset/images/val/00309D7D.JPG', '/content/turtle_face_detection_dataset/images/val/01BCAD69.JPG']\n",
            "\n",
            "0: 384x512 1 sea_turtle_face, 19.5ms\n",
            "1: 384x512 1 sea_turtle_face, 19.5ms\n",
            "Speed: 1.4ms preprocess, 19.5ms inference, 1.4ms postprocess per image at shape (1, 3, 384, 512)\n",
            "Results saved to \u001b[1m/content/inference_results/sample_inference_run\u001b[0m\n",
            "\n",
            "Inference complete. Check the results in the following directory:\n",
            "/content/inference_results/sample_inference_run\n",
            "total 168\n",
            "-rw-r--r-- 1 root root 78051 Jul 22 17:00 00309D7D.jpg\n",
            "-rw-r--r-- 1 root root 88484 Jul 22 17:00 01BCAD69.jpg\n",
            "\n",
            "Could not find predicted image at /content/inference_results/sample_inference_run/00309D7D.JPG.\n",
            "Please check the exact output directory structure for saved inference results.\n"
          ]
        }
      ]
    },
    {
      "cell_type": "code",
      "source": [
        "from IPython.display import Image, display\n",
        "import os\n",
        "\n",
        "# These paths are defined in your previous inference cell:\n",
        "# INFERENCE_RESULTS_DIR = '/content/inference_results'\n",
        "# final_inference_output_path = os.path.join(INFERENCE_RESULTS_DIR, 'sample_inference_run')\n",
        "\n",
        "# --- CORRECTED LINE HERE ---\n",
        "predicted_image_display_path = os.path.join(final_inference_output_path, '00309D7D.jpg') # <--- Changed to .jpg\n",
        "# ---------------------------\n",
        "\n",
        "if os.path.exists(predicted_image_display_path):\n",
        "    print(f\"\\nDisplaying a sample predicted image ({predicted_image_display_path}):\")\n",
        "    display(Image(filename=predicted_image_display_path, width=600))\n",
        "else:\n",
        "    print(f\"\\nStill could not find predicted image at {predicted_image_display_path}.\")\n",
        "    print(\"Please double-check the 'ls -l' output for exact filenames and extensions.\")"
      ],
      "metadata": {
        "colab": {
          "base_uri": "https://localhost:8080/",
          "height": 502
        },
        "id": "vNPwV3E6FVcV",
        "outputId": "d9374f2d-c77a-4d09-f6a1-5db64b5e2826"
      },
      "execution_count": 22,
      "outputs": [
        {
          "output_type": "stream",
          "name": "stdout",
          "text": [
            "\n",
            "Displaying a sample predicted image (/content/inference_results/sample_inference_run/00309D7D.jpg):\n"
          ]
        },
        {
          "output_type": "display_data",
          "data": {
            "image/jpeg": "[encoded data removed]",
            "text/plain": [
              "<IPython.core.display.Image object>"
            ]
          },
          "metadata": {
            "image/jpeg": {
              "width": 600
            }
          }
        }
      ]
    }
  ]
}